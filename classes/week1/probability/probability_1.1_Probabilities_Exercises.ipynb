{
 "cells": [
  {
   "attachments": {},
   "cell_type": "markdown",
   "metadata": {},
   "source": [
    "## Probabilities Exercises \n",
    "\n",
    "### Exercise 1\n",
    "\n",
    "Toss a fair coin and roll a fair six-sided die. Calculate the probability of:\n",
    "- Getting tails on the coin.\n",
    "- Rolling a number less than 3 on the die.\n",
    "- Getting heads on the coin and rolling an odd number on the die.\n",
    "\n"
   ]
  },
  {
   "cell_type": "code",
   "execution_count": null,
   "metadata": {},
   "outputs": [],
   "source": [
    "# your answer here"
   ]
  },
  {
   "attachments": {},
   "cell_type": "markdown",
   "metadata": {},
   "source": [
    "### Exercise 2\n",
    "\n",
    "A box contains 5 red balls, 4 blue balls, and 6 green balls. Two balls are drawn without replacement. Calculate the probability of:\n",
    "- Drawing a red ball and then a blue ball.\n",
    "- Drawing two green balls in a row.\n",
    "- Not drawing a blue ball."
   ]
  },
  {
   "cell_type": "code",
   "execution_count": null,
   "metadata": {},
   "outputs": [],
   "source": [
    "# your answer here"
   ]
  },
  {
   "attachments": {},
   "cell_type": "markdown",
   "metadata": {},
   "source": [
    "### Exercise 3\n",
    "\n",
    "Roll two fair six-sided dice. Calculate the probability of:\n",
    "- Getting a sum of 7.\n",
    "- Getting a sum less than 4.\n",
    "- Getting a sum greater than 9."
   ]
  },
  {
   "cell_type": "code",
   "execution_count": null,
   "metadata": {},
   "outputs": [],
   "source": [
    "# your answer here"
   ]
  },
  {
   "attachments": {},
   "cell_type": "markdown",
   "metadata": {},
   "source": [
    "### Exercise 4\n",
    "\n",
    "Draw a card from a standard deck. Calculate the probability of:\n",
    "- Getting a red card.\n",
    "- Drawing a face card (Jack, Queen, King).\n",
    "- Getting a heart or a spade.\n"
   ]
  },
  {
   "cell_type": "code",
   "execution_count": null,
   "metadata": {},
   "outputs": [],
   "source": [
    "# your answer here"
   ]
  },
  {
   "attachments": {},
   "cell_type": "markdown",
   "metadata": {},
   "source": [
    "### Exercise 5\n",
    "\n",
    "The probability of rain on any given day is 30%. What's the probability of having at least one rainy day in a week (considering seven days)?\n"
   ]
  },
  {
   "cell_type": "code",
   "execution_count": null,
   "metadata": {},
   "outputs": [],
   "source": [
    "# your answer here"
   ]
  }
 ],
 "metadata": {
  "kernelspec": {
   "display_name": ".venv",
   "language": "python",
   "name": "python3"
  },
  "language_info": {
   "name": "python",
   "version": "3.10.12"
  },
  "orig_nbformat": 4
 },
 "nbformat": 4,
 "nbformat_minor": 2
}
