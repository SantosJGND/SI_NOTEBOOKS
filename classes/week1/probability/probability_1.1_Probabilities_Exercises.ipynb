{
 "cells": [
  {
   "attachments": {},
   "cell_type": "markdown",
   "metadata": {},
   "source": [
    "## Probabilities Exercises \n",
    "\n",
    "### Exercise 1\n",
    "\n",
    "A box contains 10 white and 10 black marbles. write a list of all possible outcomes for the experiment of randomly drawing out, with replacement, two marbles in succession and noting the color each time. (To draw “with replacement” means that the first marble is put back before the second marble is drawn.)\n",
    "\n"
   ]
  },
  {
   "cell_type": "code",
   "execution_count": null,
   "metadata": {},
   "outputs": [],
   "source": [
    "# your answer here"
   ]
  },
  {
   "attachments": {},
   "cell_type": "markdown",
   "metadata": {},
   "source": [
    "### Exercise 1.1\n",
    "\n",
    "Given the list that you constructed, assuming that every outcome is equally likely, what is the probability that:\n",
    "\n",
    "- At least one marble of each color is drawn.\n",
    "- No white marble is drawn\n"
   ]
  },
  {
   "cell_type": "code",
   "execution_count": null,
   "metadata": {},
   "outputs": [],
   "source": [
    "# your answer here"
   ]
  },
  {
   "attachments": {},
   "cell_type": "markdown",
   "metadata": {},
   "source": [
    "### Exercise 2\n",
    "\n",
    "A box contains 8 red, 8 yellow, and 8 green marbles. List all the possible outcomes for the experiment of randomly drawing out, with replacement, two marbles in succession and noting the color each time.\n",
    "\n"
   ]
  },
  {
   "cell_type": "code",
   "execution_count": null,
   "metadata": {},
   "outputs": [],
   "source": [
    "# your answer here"
   ]
  },
  {
   "attachments": {},
   "cell_type": "markdown",
   "metadata": {},
   "source": [
    "### Exercise 2.1\n",
    "\n",
    "What is the probability that:\n",
    "\n",
    "- No yellow marble is drawn.\n",
    "- The two marbles drawn have the same color.\n",
    "- At least one marble of each color is drawn."
   ]
  },
  {
   "cell_type": "code",
   "execution_count": null,
   "metadata": {},
   "outputs": [],
   "source": [
    "# your answer here"
   ]
  },
  {
   "attachments": {},
   "cell_type": "markdown",
   "metadata": {},
   "source": [
    "### Exercise 3\n",
    "\n",
    "Toss a fair coin and roll a fair six-sided die. Calculate the probability of:\n",
    "- Getting tails on the coin.\n",
    "- Rolling a number less than 3 on the die.\n",
    "- Getting heads on the coin and rolling an odd number on the die.\n",
    "\n"
   ]
  },
  {
   "cell_type": "code",
   "execution_count": null,
   "metadata": {},
   "outputs": [],
   "source": [
    "# your answer here"
   ]
  },
  {
   "attachments": {},
   "cell_type": "markdown",
   "metadata": {},
   "source": [
    "### Exercise 4\n",
    "\n",
    "A box contains 5 red balls, 4 blue balls, and 6 green balls. Two balls are drawn without replacement. Calculate the probability of:\n",
    "- Drawing a red ball and then a blue ball.\n",
    "- Drawing two green balls in a row.\n",
    "- Not drawing a blue ball."
   ]
  },
  {
   "cell_type": "code",
   "execution_count": null,
   "metadata": {},
   "outputs": [],
   "source": [
    "# your answer here"
   ]
  },
  {
   "attachments": {},
   "cell_type": "markdown",
   "metadata": {},
   "source": [
    "### Exercise 5\n",
    "\n",
    "Roll two fair six-sided dice. Calculate the probability of:\n",
    "- Getting a sum of 7.\n",
    "- Getting a sum less than 4.\n",
    "- Getting a sum greater than 9."
   ]
  },
  {
   "cell_type": "code",
   "execution_count": null,
   "metadata": {},
   "outputs": [],
   "source": [
    "# your answer here"
   ]
  },
  {
   "attachments": {},
   "cell_type": "markdown",
   "metadata": {},
   "source": [
    "### Exercise 6\n",
    "\n",
    "Draw a card from a standard deck. Calculate the probability of:\n",
    "- Getting a red card.\n",
    "- Drawing a face card (Jack, Queen, King).\n",
    "- Getting a heart or a spade."
   ]
  },
  {
   "cell_type": "code",
   "execution_count": null,
   "metadata": {},
   "outputs": [],
   "source": [
    "# your answer here"
   ]
  },
  {
   "attachments": {},
   "cell_type": "markdown",
   "metadata": {},
   "source": [
    "### Exercise 7\n",
    "\n",
    "The probability of rain on any given day is 30%. What's the probability of having at least one rainy day in a week (considering seven days)?\n"
   ]
  },
  {
   "cell_type": "code",
   "execution_count": null,
   "metadata": {},
   "outputs": [],
   "source": [
    "# your answer here"
   ]
  },
  {
   "attachments": {},
   "cell_type": "markdown",
   "metadata": {},
   "source": [
    "### Exercise 8\n",
    "\n",
    "\n",
    "Suppose the die has been “loaded” so that $P(1) = \\frac{1}{12}$ and $P(6) = \\frac{3}{12}$, and the remaining of the outcomes remain equally likely ($\\frac{1}{6}$). find the probability that the number rolled is both even and greater than 2.\n"
   ]
  },
  {
   "cell_type": "code",
   "execution_count": null,
   "metadata": {},
   "outputs": [],
   "source": [
    "# your answer here"
   ]
  },
  {
   "attachments": {},
   "cell_type": "markdown",
   "metadata": {},
   "source": [
    "### Exercise 9\n",
    "\n",
    "An experiment has two events A and B with $P(A) = 0.3$, $ P(B) = 0.6 $, and $ P(A|B) = 0.4 $. Find $P(A \\cap B)$.\n"
   ]
  },
  {
   "cell_type": "code",
   "execution_count": null,
   "metadata": {},
   "outputs": [],
   "source": [
    "# your answer here"
   ]
  },
  {
   "attachments": {},
   "cell_type": "markdown",
   "metadata": {},
   "source": [
    "### Exercise 10\n",
    "\n",
    "In a group, 60% like tea, 50% like coffee, and 30% like both. What is the probability that someone likes tea if they like coffee?"
   ]
  },
  {
   "cell_type": "code",
   "execution_count": null,
   "metadata": {},
   "outputs": [],
   "source": [
    "# your answer here"
   ]
  }
 ],
 "metadata": {
  "kernelspec": {
   "display_name": ".venv",
   "language": "python",
   "name": "python3"
  },
  "language_info": {
   "name": "python",
   "version": "3.10.12"
  },
  "orig_nbformat": 4
 },
 "nbformat": 4,
 "nbformat_minor": 2
}
