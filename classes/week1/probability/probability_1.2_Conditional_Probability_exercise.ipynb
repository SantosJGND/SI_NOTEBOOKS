{
 "cells": [
  {
   "attachments": {},
   "cell_type": "markdown",
   "metadata": {},
   "source": [
    "## Precision and Recall\n",
    "\n",
    "Remember than when performing classification, our universe of observations is divided into four categories:\n",
    "\n",
    "- True positives (**TP**): These are cases in which we predicted yes correctly (e.g. the email is spam, and we predicted spam).\n",
    "- True negatives (**TN**): We predicted no, and the result was no (e.g. the email is not spam, and we predicted not spam).\n",
    "- False positives (**FP**): We predicted yes, but the result was no (e.g. the email is not spam, and we predicted spam).\n",
    "- False negatives (**FN**): We predicted no, but the result was yes (e.g. the email is spam, and we predicted not spam).\n",
    "\n",
    "We can use these four categories to calculate the **precision** and **recall** of a classification model.\n",
    "\n",
    "**Precision** is the number of true positives divided by the number of true positives plus the number of false positives.  \n",
    "\n",
    "$$Precision = \\frac{True Positives}{True Positives + False Positives}$$\n",
    "\n",
    "- Think: of all the times we predicted yes, how many times were we right?\n",
    "\n",
    "**Recall** is the number of true positives divided by the number of true positives plus the number of false negatives.\n",
    "\n",
    "$$Recall = \\frac{True Positives}{True Positives + False Negatives}$$\n",
    "\n",
    "- Think: What proportion of actual positives did we correctly predict?\n",
    "\n",
    "Depending on the situation, we may want to maximize precision or recall. There is often a tradeoff between the two. For example, if we want to minimize false positives, we can set a high threshold for predicting yes. This will increase precision, but decrease recall.\n",
    "\n",
    "### Example 1 - Spam filter\n",
    "\n",
    "Suppose we have a dataset of 1000 emails, 500 of which are spam. We have a spam filter that flags 200 emails as spam. Of the 200 emails flagged as spam, 150 are actually spam. What is the precision and recall of the spam filter?\n",
    "\n",
    "### Solution\n",
    "\n",
    "In this example, we have 150 true positives and 50 false positives. Therefore, the precision is:\n",
    "\n",
    "$$Precision = \\frac{150}{150 + 50} = 0.75$$\n",
    "\n",
    "We also have 150 true positives and 350 false negatives. Therefore, the recall is:\n",
    "\n",
    "$$Recall = \\frac{150}{150 + 350} = 0.3$$\n",
    "\n"
   ]
  },
  {
   "attachments": {},
   "cell_type": "markdown",
   "metadata": {},
   "source": [
    "#### Question\n",
    "\n",
    "What is the *negative predictive value* of the filter?\n",
    "\n",
    "**Hint** The negative predictive value is the probability that you don't have the disease if you test negative, $P(\\neg D| \\neg T)$.\n",
    "\n",
    "\n"
   ]
  },
  {
   "cell_type": "code",
   "execution_count": null,
   "metadata": {},
   "outputs": [],
   "source": [
    "# your answer here"
   ]
  },
  {
   "attachments": {},
   "cell_type": "markdown",
   "metadata": {},
   "source": [
    "### Example 2 - Medical test\n",
    "\n",
    "Suppose we have a medical test that is 99% accurate. That is, the probability of a false positive is 1% and the probability of a false negative is 1%. Suppose 0.5% of people have a certain disease. If a person tests positive, what is the probability that they actually have the disease?\n",
    "\n",
    "#### Q1\n",
    "\n",
    "Calculate the precision and recall of the medical test.\n",
    "\n"
   ]
  },
  {
   "cell_type": "code",
   "execution_count": null,
   "metadata": {},
   "outputs": [],
   "source": [
    "# your answer here"
   ]
  },
  {
   "attachments": {},
   "cell_type": "markdown",
   "metadata": {},
   "source": [
    "#### Q2 \n",
    "\n",
    "What are the $Odds$ of having the disease if you test positive?"
   ]
  },
  {
   "cell_type": "code",
   "execution_count": null,
   "metadata": {},
   "outputs": [],
   "source": [
    "# your answer here"
   ]
  },
  {
   "attachments": {},
   "cell_type": "markdown",
   "metadata": {},
   "source": [
    "## Conditional Probability\n",
    "\n",
    "### Introduction\n",
    "\n",
    "\n",
    "Conditional probability is the probability of an event given that another event has occurred. For example, if you are interested in the probability that it is raining outside, given that it is cloudy, you are dealing with conditional probability.\n",
    "\n",
    "### Conditional Probability Formula\n",
    "\n",
    "The conditional probability formula is:\n",
    "\n",
    "$$P(A|B) = \\frac{P(A \\cap B)}{P(B)}$$\n",
    "\n",
    "Where $P(A|B)$ is the probability of A given B, $P(A \\cap B)$ is the probability of A and B, and $P(B)$ is the probability of B.\n",
    "\n",
    "### Bayes' Theorem\n",
    "\n",
    "Bayes' Theorem is a formula that describes how to update the probabilities of hypotheses when given evidence. It follows simply from the axioms of conditional probability, but can be used to powerfully reason about a wide range of problems involving belief updates.\n",
    "\n",
    "$$P(A|B) = \\frac{P(B|A)P(A)}{P(B)}$$\n",
    "\n",
    "Where $P(A|B)$ is the probability of A given B, $P(B|A)$ is the probability of B given A, $P(A)$ is the probability of A, and $P(B)$ is the probability of B.\n",
    "\n",
    "### the law of total probability\n",
    "\n",
    "The law of total probability is a fundamental rule relating marginal probabilities to conditional probabilities. It expresses the total probability of an outcome which can be realized via several distinct events—hence the name.\n",
    "\n",
    "$$P(A) = \\sum_{i=1}^n P(A|B_i)P(B_i)$$\n",
    "\n",
    "Where $P(A)$ is the probability of A, $P(A|B_i)$ is the probability of A given $B_i$, and $P(B_i)$ is the probability of $B_i$.\n"
   ]
  },
  {
   "attachments": {},
   "cell_type": "markdown",
   "metadata": {},
   "source": [
    "\n",
    "\n",
    "## Bayes' Theorem\n",
    "\n",
    "### Scenario I:\n",
    "We want to create a basic spam filter that determines the probability that an email is spam given the occurrence of the word \"offer.\"\n",
    "\n",
    "#### Concepts:\n",
    "- **Spam Probability (P(Spam)):** The overall probability that an email is spam.\n",
    "- **Word Occurrence Probability:** Probability of the word \"offer\" appearing in spam and non-spam emails.\n",
    "- **Conditional Probability:** Probability that an email is spam given the occurrence of the word \"offer\" ($P(Spam | \"offer\")$).\n",
    "\n",
    "#### Example:\n",
    "Suppose:\n",
    "- 30% of emails in our dataset are spam ($P(Spam) = 0.3$).\n",
    "- \"offer\" appears in 60% of spam emails ($P(offer | Spam) = 0.6$) and 10% of non-spam emails $(P(offer | ¬Spam) = 0.1)$.\n",
    "\n",
    "#### Applying Bayes' Theorem:\n",
    "We want to calculate $P(Spam | \"offer\")$, the probability that an email is spam given it contains the word \"offer.\"\n",
    "\n",
    "Using Bayes' theorem:\n",
    "\n",
    "\n",
    "$$P(Spam | \"offer\") = \\frac{P(\"offer\" | Spam) \\times P(Spam)}{P(\"offer\")}$$\n",
    "\n",
    "\n",
    "Substitute the given values and calculate the probabilities:\n",
    "\n",
    "$$ P(Spam | \"offer\") = \\frac{0.6 \\times 0.3}{P(\"offer\")} $$\n",
    "\n",
    "To find $P(\"offer\")$, use the Law of Total Probability:\n",
    "\n",
    "$$ P(\"offer\") = P(\"offer\" | Spam) \\times P(Spam) + P(\"offer\" | ¬Spam) \\times P(¬Spam) $$\n",
    "\n",
    "$$ P(\"offer\") = 0.6 \\times 0.3 + (0.1 \\times 0.7) = 0.18 + 0.07 = 0.25 $$\n",
    "\n",
    "Finally:\n",
    "\n",
    "$$ P(Spam | \"offer\") = \\frac{0.6 \\times 0.3}{0.25} = 0.72 $$\n",
    "\n",
    "#### Conclusion:\n",
    "Given the presence of the word \"offer\" in an email, the filter predicts with approximately 72% probability that the email is spam.\n",
    "\n",
    "This simplified example demonstrates how Bayes' theorem can be used in spam filtering by considering the occurrence of a single word to estimate the probability of an email being spam. In real applications, more sophisticated models and multiple features are used to enhance accuracy.\n",
    "\n",
    "### Questions\n",
    "\n",
    "#### Q1\n",
    "\n",
    "What is the precision and recall of the spam filter?"
   ]
  },
  {
   "cell_type": "code",
   "execution_count": null,
   "metadata": {},
   "outputs": [],
   "source": [
    "# your answer here"
   ]
  },
  {
   "attachments": {},
   "cell_type": "markdown",
   "metadata": {},
   "source": [
    "##### Q2\n",
    "\n",
    "Of all the emails in our data set, what proportion are spam and contain the word \"offer\"?\n",
    "\n",
    "**Hint**: $P(Spam \\cap \"offer\")$\n"
   ]
  },
  {
   "cell_type": "code",
   "execution_count": null,
   "metadata": {},
   "outputs": [],
   "source": [
    "# your answer here"
   ]
  },
  {
   "attachments": {},
   "cell_type": "markdown",
   "metadata": {},
   "source": [
    "##### Q3\n",
    "\n",
    "How many emails in our data set are not spam and don't contain the word \"offer\"?\n",
    "\n",
    "**Hint**: $1 - P(Spam \\cup \"offer\")$"
   ]
  },
  {
   "cell_type": "code",
   "execution_count": 1,
   "metadata": {},
   "outputs": [],
   "source": [
    "# your answer here"
   ]
  },
  {
   "attachments": {},
   "cell_type": "markdown",
   "metadata": {},
   "source": [
    "## Scenario II:\n",
    "Consider a particular medical test for a rare disease. The test has a sensitivity of 90% (the probability of a positive test given the patient has the disease) and a specificity of 95% (the probability of a negative test given the patient does not have the disease).\n",
    "\n",
    "### Given Information:\n",
    "- The prevalence of this disease in the general population is 1 in 1000 (P(Disease) = 0.001).\n",
    "\n",
    "### Using Bayes' Theorem:\n",
    "$$ P(Disease | Positive Test) = \\frac{P(Positive Test | Disease) \\times P(Disease)}{P(Positive Test)} $$\n",
    "\n",
    "Given:\n",
    "- Sensitivity ($P(Positive Test | Disease)$) = 0.90\n",
    "- Prevalence ($P(Disease)$) = 0.001\n",
    "- We need to calculate $P(Positive Test)$, which requires considering both true positives and false positives.\n",
    "\n",
    "### Tasks\n",
    "1. Calculate the probability of a positive test, considering both scenarios (having the disease and not having the disease) using the Law of Total Probability.\n",
    "$$ P(Positive Test) = P(Positive Test | Disease) \\times P(Disease) + P(Positive Test | ¬Disease) \\times P(¬Disease) $$\n",
    "\n",
    "2. Apply the given sensitivity, specificity, and prevalence to solve for $P(Positive Test | ¬Disease)$ (probability of a positive test given the absence of the disease).\n",
    "\n",
    "3. Substitute the calculated probabilities into Bayes' theorem to find the probability that a person actually has the disease given a positive test result.\n"
   ]
  },
  {
   "cell_type": "code",
   "execution_count": 2,
   "metadata": {},
   "outputs": [],
   "source": [
    "# your answer here\n"
   ]
  },
  {
   "attachments": {},
   "cell_type": "markdown",
   "metadata": {},
   "source": [
    "## Scenario III:\n",
    "In a certain city, consider a crime that has occurred. The police have arrested a suspect based on the available evidence. The accuracy of the forensic evidence used in this city is as follows:\n",
    "- The test correctly identifies the suspect in 98% of cases when the suspect is guilty (sensitivity).\n",
    "- The test correctly excludes the suspect in 97% of cases when the suspect is innocent (specificity).\n",
    "\n",
    "### Given Information:\n",
    "- Prior to any evidence, the probability of a randomly selected person being guilty of this crime is 0.1% (P(Guilty) = 0.001).\n",
    "\n",
    "### Task:\n",
    "Calculate the updated probability that the suspect is guilty given that the test results are positive (P(Guilty | Positive Test)) using Bayes' theorem.\n",
    "\n",
    "### Using Bayes' Theorem:\n",
    "$$ P(Guilty | Positive Test) = \\frac{P(Positive Test | Guilty) \\times P(Guilty)}{P(Positive Test)} $$\n",
    "\n",
    "Given:\n",
    "- Sensitivity ($P(Positive Test | Guilty)$) = 0.98\n",
    "- Prevalence ($P(Guilty)$) = 0.001\n",
    "- We need to calculate $P(Positive Test)$, which requires considering both true positives and false positives.\n",
    "\n",
    "Applying Bayes' theorem using the provided sensitivity, prevalence, and other relevant probabilities : \n",
    "\n",
    "    Calculate the updated probability of guilt given a positive test result."
   ]
  },
  {
   "cell_type": "code",
   "execution_count": 3,
   "metadata": {},
   "outputs": [],
   "source": [
    "# your answer here"
   ]
  }
 ],
 "metadata": {
  "kernelspec": {
   "display_name": ".venv",
   "language": "python",
   "name": "python3"
  },
  "language_info": {
   "codemirror_mode": {
    "name": "ipython",
    "version": 3
   },
   "file_extension": ".py",
   "mimetype": "text/x-python",
   "name": "python",
   "nbconvert_exporter": "python",
   "pygments_lexer": "ipython3",
   "version": "3.10.12"
  },
  "orig_nbformat": 4
 },
 "nbformat": 4,
 "nbformat_minor": 2
}
