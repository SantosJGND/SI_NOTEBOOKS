{
 "cells": [
  {
   "attachments": {},
   "cell_type": "markdown",
   "metadata": {},
   "source": [
    "## Expected value and variance Exercises\n",
    "\n",
    "**Reminder**\n",
    "\n",
    "The expected value of a random variable $X$ is defined as:\n",
    "\n",
    "$$\n",
    "E(X) = \\sum_{x} x P(X=x)\n",
    "$$\n",
    "\n",
    "The variance of a random variable $X$ is defined as:\n",
    "\n",
    "$$\n",
    "Var(X) = E((X-E(X))^2) = E(X^2) - E(X)^2\n",
    "$$\n",
    "\n",
    "\n",
    "### Exercise 1\n",
    "\n",
    "Let $X$ be a random variable with the following probability mass function:\n",
    "\n",
    "$$\n",
    "\\begin{array}{c|c|c|c|c}\n",
    "x & 0 & 1 & 2 & 3 \\\\\n",
    "\\hline\n",
    "P(X=x) & 0.1 & 0.2 & 0.3 & 0.4\n",
    "\\end{array}\n",
    "$$\n",
    "\n",
    "Compute the expected value and variance of $X$.\n",
    "\n"
   ]
  },
  {
   "cell_type": "code",
   "execution_count": null,
   "metadata": {},
   "outputs": [],
   "source": [
    "# your answer here"
   ]
  },
  {
   "attachments": {},
   "cell_type": "markdown",
   "metadata": {},
   "source": [
    "### Exercise 2\n",
    "\n",
    "Roll a fair six-sided die. Calculate the expected value of the roll."
   ]
  },
  {
   "cell_type": "code",
   "execution_count": null,
   "metadata": {},
   "outputs": [],
   "source": [
    "# your answer here"
   ]
  },
  {
   "attachments": {},
   "cell_type": "markdown",
   "metadata": {},
   "source": [
    "### Exercise 3\n",
    "\n",
    "In a lottery, a ticket costs $2, and the probability of winning $50 is 1 in 1000. \n",
    "\n",
    "Calculate the expected value of buying one ticket."
   ]
  },
  {
   "cell_type": "code",
   "execution_count": null,
   "metadata": {},
   "outputs": [],
   "source": [
    "# your answer here\n"
   ]
  },
  {
   "attachments": {},
   "cell_type": "markdown",
   "metadata": {},
   "source": [
    "### Exercise 4\n",
    "\n",
    "In a sales scenario, given the probabilities of selling 50, 20, 30, or 40 units with respective probabilities 0.1, 0.3, 0.4, 0.2, compute the expected number of units sold.\n"
   ]
  },
  {
   "cell_type": "code",
   "execution_count": null,
   "metadata": {},
   "outputs": [],
   "source": [
    "# your answer here"
   ]
  },
  {
   "attachments": {},
   "cell_type": "markdown",
   "metadata": {},
   "source": [
    "### Exercise 5\n",
    "\n",
    "Let $X$ be a random variable with the following probability mass function:\n",
    "\n",
    "Imagine you have a series of appartments you are planning to rent. After some market research you have determined that the probability of renting each apparment follows the following distribution:\n",
    "\n",
    "$$\n",
    "\\begin{array}{c|c|c|c|c}\n",
    "x & Appt. 1 & Appt. 2 & Appt. 3 & Appt. 4 \\\\\n",
    "\\hline\n",
    "P(X=x) & 0.3 & 0.2 & 0.4 & 0.1\n",
    "\\end{array}\n",
    "$$\n",
    "\n",
    "You have also determined an expected rent for three of the appartments, but not Appt. 2. The expected rent for the other three appartments is:\n",
    "\n",
    "$$\n",
    "\\begin{array}{c|c|c|c}\n",
    "x & Appt. 1 & Appt. 3 & Appt. 4 \\\\\n",
    "\\hline\n",
    "E(Rent|X=x) & 1000 & 1200 & 800\n",
    "\\end{array}\n",
    "$$\n",
    "\n",
    "You are aiming to make a profit of 1000 dollars per month. What should the expected rent for Appt. 2 be?\n",
    "\n"
   ]
  }
 ],
 "metadata": {
  "kernelspec": {
   "display_name": ".venv",
   "language": "python",
   "name": "python3"
  },
  "language_info": {
   "name": "python",
   "version": "3.10.12"
  },
  "orig_nbformat": 4
 },
 "nbformat": 4,
 "nbformat_minor": 2
}
