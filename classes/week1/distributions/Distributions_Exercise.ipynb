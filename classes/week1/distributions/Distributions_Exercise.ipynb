{
 "cells": [
  {
   "attachments": {},
   "cell_type": "markdown",
   "metadata": {},
   "source": [
    "### Exercises\n",
    "\n",
    "Change the parameters of the code from the class notebooks to answer the following questions.\n",
    "\n",
    "#### Exercise 1.\n",
    "\n",
    "You are running a restaurant. What would be the probability of obtaining at least 125 costumers in one night if our average was 120? Assume a binomial distribution.\n"
   ]
  },
  {
   "cell_type": "code",
   "execution_count": null,
   "metadata": {},
   "outputs": [],
   "source": [
    "# your answer here"
   ]
  },
  {
   "attachments": {},
   "cell_type": "markdown",
   "metadata": {},
   "source": [
    "#### Exercise 2\n",
    "\n",
    "What would be the probability of getting as few as 50 costumers if your average was 80? \n"
   ]
  },
  {
   "cell_type": "code",
   "execution_count": 1,
   "metadata": {},
   "outputs": [],
   "source": [
    "# your answer here"
   ]
  },
  {
   "attachments": {},
   "cell_type": "markdown",
   "metadata": {},
   "source": [
    "#### Exercise 3 \n",
    "\n",
    "Given that you know that your average number of costumers per night is 80, how confident are you of receiving between 60 and 95 costumers in one night?\n"
   ]
  },
  {
   "cell_type": "code",
   "execution_count": 2,
   "metadata": {},
   "outputs": [],
   "source": [
    "# your answer here"
   ]
  },
  {
   "attachments": {},
   "cell_type": "markdown",
   "metadata": {},
   "source": [
    "#### Exercise 4\n",
    "\n",
    "In a production line, given a 10% defect rate, determine the probability of finding exactly 2 defective products in a sample of 8.\n"
   ]
  },
  {
   "cell_type": "code",
   "execution_count": 3,
   "metadata": {},
   "outputs": [],
   "source": [
    "# your answer here"
   ]
  },
  {
   "attachments": {},
   "cell_type": "markdown",
   "metadata": {},
   "source": [
    "#### Exercise 5\n",
    "\n",
    "In a local election with two candidates, you have already conducted poling that showed that your candidate had 53% of the votes. \n",
    "\n",
    "If you poll another 100 people, what are the chances that your candidate might still get less than 50% of the votes? What if you poll another 1000?\n",
    "\n"
   ]
  },
  {
   "cell_type": "code",
   "execution_count": null,
   "metadata": {},
   "outputs": [],
   "source": [
    "# your answer here"
   ]
  },
  {
   "attachments": {},
   "cell_type": "markdown",
   "metadata": {},
   "source": [
    "#### Exercise 6\n",
    "\n",
    "Determine the probability of randomly selecting a value less than 45 from a normal distribution with $\\mu = 40$ and $\\sigma = 5$."
   ]
  },
  {
   "cell_type": "code",
   "execution_count": null,
   "metadata": {},
   "outputs": [],
   "source": [
    "# your answer here"
   ]
  },
  {
   "attachments": {},
   "cell_type": "markdown",
   "metadata": {},
   "source": [
    "#### Exercise 7\n",
    "\n",
    "\n",
    "Within a normally distributed dataset with $\\mu = 60$ and $\\sigma = 8$, find the range (in terms of standard deviations) that contains approximately 95% of the data around the mean.\n"
   ]
  },
  {
   "cell_type": "code",
   "execution_count": null,
   "metadata": {},
   "outputs": [],
   "source": [
    "# your answer here"
   ]
  },
  {
   "attachments": {},
   "cell_type": "markdown",
   "metadata": {},
   "source": [
    "#### Exercise 8\n",
    "\n",
    "A manufacturing process produces items with a mean weight of 500 grams and a standard deviation of 20 grams. Calculate the probability that a randomly selected item weighs between 480 and 520 grams."
   ]
  },
  {
   "cell_type": "code",
   "execution_count": null,
   "metadata": {},
   "outputs": [],
   "source": [
    "# your answer here"
   ]
  },
  {
   "attachments": {},
   "cell_type": "markdown",
   "metadata": {},
   "source": [
    "#### Exercise 8.1\n",
    "\n",
    "Assuming the same manufacturing process, calculate the probability that a randomly selected item weighs less than 450 grams."
   ]
  },
  {
   "cell_type": "code",
   "execution_count": 4,
   "metadata": {},
   "outputs": [],
   "source": [
    "# your answer here\n"
   ]
  },
  {
   "attachments": {},
   "cell_type": "markdown",
   "metadata": {},
   "source": [
    "#### Exercise 10\n",
    "\n",
    "Given a normal distribution with mean $\\mu = 50$ and standard deviation $\\sigma = 10$, calculate the z-score for a value of 60."
   ]
  },
  {
   "cell_type": "code",
   "execution_count": null,
   "metadata": {},
   "outputs": [],
   "source": [
    "# your answer here"
   ]
  },
  {
   "attachments": {},
   "cell_type": "markdown",
   "metadata": {},
   "source": [
    "#### Exercise 11\n",
    "\n",
    "Convert a z-score of -1.5 into the corresponding percentile in a standard normal distribution.\n"
   ]
  },
  {
   "cell_type": "code",
   "execution_count": null,
   "metadata": {},
   "outputs": [],
   "source": [
    "# your answer here"
   ]
  },
  {
   "attachments": {},
   "cell_type": "markdown",
   "metadata": {},
   "source": [
    "#### Exercise 12\n",
    "\n",
    "The lifetime of a particular brand of light bulbs follows an exponential distribution with a mean lifetime of 1000 hours. Calculate the probability that a bulb will last at least 1500 hours.\n"
   ]
  },
  {
   "cell_type": "code",
   "execution_count": null,
   "metadata": {},
   "outputs": [],
   "source": [
    "# your answer here"
   ]
  },
  {
   "attachments": {},
   "cell_type": "markdown",
   "metadata": {},
   "source": [
    "#### Exercise 13\n",
    "\n",
    "The delivery time of a product from an online store follows an exponential distribution with an average delivery time of 3 days. Find the probability that the product will be delivered within 2 days."
   ]
  },
  {
   "cell_type": "code",
   "execution_count": null,
   "metadata": {},
   "outputs": [],
   "source": [
    "# your answer here"
   ]
  },
  {
   "attachments": {},
   "cell_type": "markdown",
   "metadata": {},
   "source": [
    "#### Exercise 14\n",
    "\n",
    "The time between two consecutive arrivals at a store checkout counter follows an exponential distribution with an average inter-arrival time of 5 minutes. Find the probability that the next arrival will occur within 2 minutes.\n",
    "\n"
   ]
  },
  {
   "cell_type": "code",
   "execution_count": 5,
   "metadata": {},
   "outputs": [],
   "source": [
    "# your answer here"
   ]
  },
  {
   "attachments": {},
   "cell_type": "markdown",
   "metadata": {},
   "source": [
    "#### Exercise 15\n",
    "\n",
    "You are hired to work on a website. You are provided a data set of the number of visits and the number of conversions per day for the last year. \n",
    "\n",
    "You are asked to predict the number of conversions for the next day. What distribution would you use? Why?\n",
    "\n",
    "Assume that the proportion of conversions per visit is binomially distributed.\n",
    "\n",
    "**Notes on using pandas data frames:** \n",
    "- i. in pandas, new columns can be created by combining existing columns. For example, if you have a data frame `df` with columns `a` and `b`, you can create a new column `c` by doing `df['c'] = df['a'] + df['b']`. You can also use the `apply` method to apply a function to each row of a data frame. For example, if you have a function `f` that takes two arguments, you can do `df['c'] = df.apply(lambda row: f(row['a'], row['b']), axis=1)`. \n",
    "- ii. you can use the `mean` method to calculate the mean of a column in a data frame. For example, if you have a data frame `df` with a column `a`, you can do `df['a'].mean()` to calculate the mean of column `a`.\n"
   ]
  },
  {
   "cell_type": "code",
   "execution_count": 53,
   "metadata": {},
   "outputs": [
    {
     "name": "stdout",
     "output_type": "stream",
     "text": [
      "the shape of the data is (365, 2)\n",
      "   visits  conversions\n",
      "0     988            9\n",
      "1    1022            9\n",
      "2     963            8\n",
      "3    1009            9\n",
      "4    1035            9\n"
     ]
    }
   ],
   "source": [
    "from utilities.exercise_utils import website_conversion_data\n",
    "\n",
    "website_date= website_conversion_data()\n",
    "\n",
    "print(f\"the shape of the data is {website_date.shape}\")\n",
    "print(website_date.head())\n",
    "# your answer here\n"
   ]
  },
  {
   "attachments": {},
   "cell_type": "markdown",
   "metadata": {},
   "source": [
    "#### Exercise 15.2\n",
    "\n",
    "Suppose you conducted a marketing campaign that increased the number of visits to 1200 per day.\n",
    "\n",
    "- Simulate and visualize the number of conversions per day for 30 days, after the marketing campaign.\n"
   ]
  },
  {
   "cell_type": "code",
   "execution_count": null,
   "metadata": {},
   "outputs": [],
   "source": [
    "# your answer here"
   ]
  },
  {
   "attachments": {},
   "cell_type": "markdown",
   "metadata": {},
   "source": [
    "#### Exercise 15.3\n",
    "\n",
    "You could have also decided to implement a new feature that increased your conversion rate from 1% to 2%.\n",
    "\n",
    "- Simulate and visualize the number of conversions per day for 30 days, after the marketing campaign."
   ]
  },
  {
   "cell_type": "code",
   "execution_count": 6,
   "metadata": {},
   "outputs": [],
   "source": [
    "# your answer here"
   ]
  },
  {
   "attachments": {},
   "cell_type": "markdown",
   "metadata": {},
   "source": [
    "#### Exercise 15.4\n",
    "\n",
    "What would happen if you only had 100 visits per day? How would that affect your results?\n",
    "\n",
    "Discuss the importance of sample size in your results."
   ]
  },
  {
   "cell_type": "code",
   "execution_count": 7,
   "metadata": {},
   "outputs": [],
   "source": [
    "# your answer here"
   ]
  },
  {
   "attachments": {},
   "cell_type": "markdown",
   "metadata": {},
   "source": [
    "#### Exercise 16\n",
    "\n",
    "The return on investment (ROI) of a stock is modelled using a normal distribution. You are given a data set of the daily ROI of a stock for the last year.\n",
    "\n",
    "- Calculate the mean and standard deviation of the daily ROI.\n",
    "- Simulate the daily returns of the stock for the next 100 days.\n"
   ]
  },
  {
   "cell_type": "code",
   "execution_count": 1,
   "metadata": {},
   "outputs": [],
   "source": [
    "import numpy as np\n",
    "import matplotlib.pyplot as plt\n",
    "from utilities.exercise_utils import historical_returns_data\n",
    "\n",
    "\n",
    "# Historical data (daily returns)\n",
    "historical_returns = historical_returns_data()\n",
    "\n",
    "# your answer here\n"
   ]
  },
  {
   "attachments": {},
   "cell_type": "markdown",
   "metadata": {},
   "source": [
    "#### Exercise 16.1\n",
    "\n",
    "You intend to use simulation to predict the ROI of the stock in the future.\n",
    "\n",
    "For a simple simulation, you can assume that the ROI of the stock is independent from day to day. You will model it as a normal distribution with the same mean and standard deviation as the data set. Each day, you will calculate the ROI of the stock and add it to your investment: `investment = investment + investment * roi`. \n",
    "\n",
    "\n",
    "I have prepared the following function to simulate the ROI of the stock for the next 100 days. \n",
    "\n",
    "\n",
    "```python\n",
    "\n",
    "from typing import Union\n",
    "def monte_carlo_simulation(initial_price: float, days: int, daily_returns: Union[np.ndarray, list]):\n",
    "    stock_prices = [initial_price]\n",
    "\n",
    "    for i in range(1, days):\n",
    "        price = stock_prices[-1] * (1 + daily_returns[i])\n",
    "        stock_prices.append(price)\n",
    "    \n",
    "    return stock_prices\n",
    "```\n",
    "\n",
    "The function `monte_carlo_simulation` takes three arguments:\n",
    "- `initial_price`: the initial price of the stock.\n",
    "- `days`: the number of days to simulate.\n",
    "- `daily_returns`: a list or numpy array with the daily returns of the stock.\n",
    "\n",
    "The function returns a list with the simulated stock prices for each day.\n",
    "\n",
    "\n",
    "#### Task\n",
    "\n",
    "Simulate the ROI of the stock for the next 100 days for an initial investment of 1000 dollars."
   ]
  },
  {
   "cell_type": "code",
   "execution_count": 3,
   "metadata": {},
   "outputs": [
    {
     "name": "stdout",
     "output_type": "stream",
     "text": [
      "Stock Price after 100 days: 138.0800623940546\n"
     ]
    },
    {
     "data": {
      "image/png": "[encoded data removed]",
      "text/plain": [
       "<Figure size 1000x600 with 1 Axes>"
      ]
     },
     "metadata": {},
     "output_type": "display_data"
    }
   ],
   "source": [
    "from utilities.exercise_utils import monte_carlo_simulation,  historical_returns_data\n",
    "import numpy as np\n",
    "\n",
    "# Historical data (daily returns)\n",
    "historical_returns = historical_returns_data()\n",
    "\n",
    "# Parameters\n",
    "initial_price = 100  # Initial stock price\n",
    "days = 100  # Number of days to simulate\n",
    "\n",
    "# Simulate the daily returns for 100 days\n",
    "#daily_returns =\n",
    "\n",
    "# Use the monte_carlo_simulation function to simulate the stock price for 100 days\n",
    "#stock_prices =\n",
    "\n",
    "#print(f\"Stock Price after {days} days: {stock_prices[-1]}\")\n",
    "#\n",
    "## Visualization\n",
    "#plt.figure(figsize=(10, 6))\n",
    "#\n",
    "#plt.plot(stock_prices)\n",
    "#plt.title('Monte Carlo Simulation: Stock Price Movement')\n",
    "#plt.xlabel('Days')\n",
    "#plt.ylabel('Stock Price')\n",
    "#plt.grid(True)\n",
    "#plt.show()\n"
   ]
  },
  {
   "attachments": {},
   "cell_type": "markdown",
   "metadata": {},
   "source": [
    "#### Exercise 16.2\n",
    "\n",
    "After having simulated your stock prices, you can access the stock price at the last day by doing `stock_prices[-1]`.\n",
    "\n",
    "- Notice that this value changes every time you run the simulation. Why is that?\n",
    "- Run the simulation 1000 times and store the stock price at the last day in a list.\n",
    "- Plot a histogram of the stock prices at the last day. What is the mean and standard deviation of the stock price at the last day?\n",
    "- is it wise to invest in this stock? What if you invested for 1000 days instead of 100?\n",
    "\n",
    "**Hint:** you can use a for loop to run the simulation 1000 times and store the results in a list. For example, if you have a function `f` that returns a value, you can do `results = [f() for i in range(1000)]` to run the function 1000 times and store the results in a list.\n",
    "\n",
    "\n"
   ]
  },
  {
   "cell_type": "code",
   "execution_count": null,
   "metadata": {},
   "outputs": [],
   "source": [
    "stock_price_list= []\n",
    "\n",
    "# your answer here"
   ]
  }
 ],
 "metadata": {
  "kernelspec": {
   "display_name": ".venv",
   "language": "python",
   "name": "python3"
  },
  "language_info": {
   "codemirror_mode": {
    "name": "ipython",
    "version": 3
   },
   "file_extension": ".py",
   "mimetype": "text/x-python",
   "name": "python",
   "nbconvert_exporter": "python",
   "pygments_lexer": "ipython3",
   "version": "3.10.12"
  },
  "orig_nbformat": 4
 },
 "nbformat": 4,
 "nbformat_minor": 2
}
