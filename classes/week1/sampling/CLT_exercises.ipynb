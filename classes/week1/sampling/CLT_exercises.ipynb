{
 "cells": [
  {
   "attachments": {},
   "cell_type": "markdown",
   "metadata": {},
   "source": [
    "## The Central Limit Theorem - Lab\n",
    "\n",
    "### Introduction\n",
    "\n",
    "In this lab, we'll explore the Central Limit Theorem (CLT) and see it in action.  We'll also learn how to use the CLT to answer probability questions.\n",
    "\n",
    "### Data \n",
    "\n",
    "We will use call center data to explore the Central Limit Theorem.  The data set contains information on 4,999 calls.  We will focus on the Intervals column, which contains the number of seconds between when a call is placed and when it is answered.  We will treat this as the population, and we will draw samples from it to see the Central Limit Theorem in action.\n",
    "\n",
    "### Objectives\n",
    "\n",
    "You will be able to:\n",
    "\n",
    "* Demonstrate practical understanding of the Central Limit Theorem  \n",
    "* Visually demonstrate the Central Limit Theorem using Python\n"
   ]
  },
  {
   "attachments": {},
   "cell_type": "markdown",
   "metadata": {},
   "source": [
    "### 1. Visualizing the CLT\n",
    "\n",
    "Let's start by visualizing the Central Limit Theorem using a dataset.  Recall that the Central Limit Theorem states the following:\n",
    "\n",
    "> Given a dataset with a known mean and standard deviation, if we take random samples from the dataset (of size $n$), then when $n$ is sufficiently large, the distribution of the sample means will be normally distributed.  This distribution will have a mean of $\\mu$ and a standard deviation of $\\frac{\\sigma}{\\sqrt{n}}$.\n",
    "\n",
    "Let's investigate the Central Limit Theorem by analyzing the distribution of sample means for a real dataset!  We'll be using the call center dataset.\n"
   ]
  },
  {
   "cell_type": "code",
   "execution_count": 4,
   "metadata": {},
   "outputs": [
    {
     "data": {
      "text/html": [
       "<div>\n",
       "<style scoped>\n",
       "    .dataframe tbody tr th:only-of-type {\n",
       "        vertical-align: middle;\n",
       "    }\n",
       "\n",
       "    .dataframe tbody tr th {\n",
       "        vertical-align: top;\n",
       "    }\n",
       "\n",
       "    .dataframe thead th {\n",
       "        text-align: right;\n",
       "    }\n",
       "</style>\n",
       "<table border=\"1\" class=\"dataframe\">\n",
       "  <thead>\n",
       "    <tr style=\"text-align: right;\">\n",
       "      <th></th>\n",
       "      <th>datetime</th>\n",
       "      <th>interval</th>\n",
       "    </tr>\n",
       "  </thead>\n",
       "  <tbody>\n",
       "    <tr>\n",
       "      <th>0</th>\n",
       "      <td>2021-01-01 09:12:58</td>\n",
       "      <td>0.0</td>\n",
       "    </tr>\n",
       "    <tr>\n",
       "      <th>1</th>\n",
       "      <td>2021-01-01 09:47:31</td>\n",
       "      <td>2073.0</td>\n",
       "    </tr>\n",
       "    <tr>\n",
       "      <th>2</th>\n",
       "      <td>2021-01-01 09:47:31</td>\n",
       "      <td>0.0</td>\n",
       "    </tr>\n",
       "    <tr>\n",
       "      <th>3</th>\n",
       "      <td>2021-01-01 10:00:29</td>\n",
       "      <td>778.0</td>\n",
       "    </tr>\n",
       "    <tr>\n",
       "      <th>4</th>\n",
       "      <td>2021-01-01 10:00:29</td>\n",
       "      <td>0.0</td>\n",
       "    </tr>\n",
       "  </tbody>\n",
       "</table>\n",
       "</div>"
      ],
      "text/plain": [
       "              datetime  interval\n",
       "0  2021-01-01 09:12:58       0.0\n",
       "1  2021-01-01 09:47:31    2073.0\n",
       "2  2021-01-01 09:47:31       0.0\n",
       "3  2021-01-01 10:00:29     778.0\n",
       "4  2021-01-01 10:00:29       0.0"
      ]
     },
     "execution_count": 4,
     "metadata": {},
     "output_type": "execute_result"
    }
   ],
   "source": [
    "import pandas as pd\n",
    "\n",
    "call_center_df= pd.read_csv(\"data/call_center_small.csv\")\n",
    "call_center_df.head()"
   ]
  },
  {
   "cell_type": "code",
   "execution_count": 5,
   "metadata": {},
   "outputs": [
    {
     "data": {
      "image/png": "[encoded data removed]",
      "text/plain": [
       "<Figure size 1000x600 with 1 Axes>"
      ]
     },
     "metadata": {},
     "output_type": "display_data"
    }
   ],
   "source": [
    "import matplotlib.pyplot as plt\n",
    "# plot the distribution of the inter-arrival times\n",
    "plt.figure(figsize=(10, 6))\n",
    "plt.hist(call_center_df[call_center_df[\"interval\"] < 20000][\"interval\"], bins= 20)\n",
    "plt.xlabel(\"Inter-arrival time (minutes)\")\n",
    "plt.ylabel(\"Frequency\")\n",
    "plt.title(\"Distribution of inter-arrival times\")\n",
    "plt.show()\n"
   ]
  },
  {
   "attachments": {},
   "cell_type": "markdown",
   "metadata": {},
   "source": [
    "## Exercises\n"
   ]
  },
  {
   "attachments": {},
   "cell_type": "markdown",
   "metadata": {},
   "source": [
    "### 0. Dice Rolls\n",
    "\n",
    "Roll a fair die 10 times and calculate the mean. Repeat this process 100 times. Plot the distribution of the means.  Discuss the shape of the distribution in the context of the CLT."
   ]
  },
  {
   "cell_type": "code",
   "execution_count": 2,
   "metadata": {},
   "outputs": [],
   "source": [
    "import numpy as np\n",
    "np.random.seed(123)\n",
    "# Rolling a die once\n",
    "die_roll= np.random.randint(1, 7)\n",
    "\n",
    "# your code here\n"
   ]
  },
  {
   "attachments": {},
   "cell_type": "markdown",
   "metadata": {},
   "source": [
    "\n",
    "### 1. The Law of Large Numbers\n",
    "\n",
    "Select a sample of 50 time intervals from the call center dataframe and take the mean of the interval. Repeat this process 100 times. \n",
    "\n",
    "**Hint 1**: Use `np.random.choice()` to select a random sample. Set the `replace` parameter to `False` to prevent the function from selecting the same value more than once.  Set the `size` parameter to the desired sample size.\n",
    "\n",
    "**Hint 2**: Use `np.mean()` to calculate the mean of the sample.\n",
    "\n",
    "Calculate the mean of the 100 calculated means. Calculate the mean across the dataset. \n",
    "\n",
    "Compare the two values, discuss the law of large numbers.  How does it apply in the context of call center calls?  "
   ]
  },
  {
   "cell_type": "code",
   "execution_count": null,
   "metadata": {},
   "outputs": [],
   "source": [
    "# your anser here"
   ]
  },
  {
   "attachments": {},
   "cell_type": "markdown",
   "metadata": {},
   "source": [
    "### 2. Application\n",
    "\n",
    "Calculate the mean for 1000 samples of size 100. \n",
    "\n",
    "\n",
    "Knowing that the interval data is exponentially distributed, what do you infer is the average time between calls? "
   ]
  },
  {
   "cell_type": "code",
   "execution_count": null,
   "metadata": {},
   "outputs": [],
   "source": [
    "# your answer here"
   ]
  },
  {
   "attachments": {},
   "cell_type": "markdown",
   "metadata": {},
   "source": [
    "### 3. The Central Limit Theorem\n",
    "\n",
    "Calculate the mean for 1000 samples of sample size of 30, 50 and 100. Plot the histograms of those means.  \n",
    "\n",
    "**Hint** Use the code the code provided in the class Notebook on the [LNN](https://www.kaggle.com/code/santosjgnd/sampling-1-1-lnn)."
   ]
  },
  {
   "cell_type": "code",
   "execution_count": null,
   "metadata": {},
   "outputs": [],
   "source": [
    "# your answer here"
   ]
  },
  {
   "attachments": {},
   "cell_type": "markdown",
   "metadata": {},
   "source": [
    "### 4. Standard Error\n",
    "\n",
    "Recall that the estimated standard error of the sample mean is $\\frac{s}{\\sqrt{n}}$, where $s$ is the sample standard deviation. \n",
    "\n",
    "Estimate the standard error for the call center data for 100 samples and 1000 samples.  How does this compare to your answer in question 3?  What does this tell you about how the number of samples affects the accuracy of your estimate? "
   ]
  },
  {
   "cell_type": "code",
   "execution_count": 1,
   "metadata": {},
   "outputs": [],
   "source": [
    "# your code here"
   ]
  },
  {
   "attachments": {},
   "cell_type": "markdown",
   "metadata": {},
   "source": [
    "### 5. The CDF\n",
    "\n",
    "Calculate the mean for 1000 samples of size 100.\n",
    "\n",
    "Plot the cumulative distribution function (CDF) of the sample means. \n"
   ]
  },
  {
   "cell_type": "code",
   "execution_count": null,
   "metadata": {},
   "outputs": [],
   "source": [
    "# your code here"
   ]
  },
  {
   "attachments": {},
   "cell_type": "markdown",
   "metadata": {},
   "source": [
    "### 6. The CLT \n",
    "\n",
    "Calculate the mean for 1000 samples of size 100, take the mean and standard deviation. \n",
    "\n",
    "Using the Central Limit Theorem to infer their distribution, calculate the $0.3$ and $0.7$ quantiles for the average time between calls for samples of size 100. \n"
   ]
  },
  {
   "cell_type": "code",
   "execution_count": null,
   "metadata": {},
   "outputs": [],
   "source": [
    "# your code here"
   ]
  },
  {
   "attachments": {},
   "cell_type": "markdown",
   "metadata": {},
   "source": [
    "### 7. Intervals 1\n",
    "\n",
    "Given the above exercise: How likely is it that the true average of the population falls between the $0.3$ and $0.7$ quantiles you calculated?\n",
    "\n",
    "**Hint** you't need code for this one. "
   ]
  },
  {
   "cell_type": "code",
   "execution_count": null,
   "metadata": {},
   "outputs": [],
   "source": [
    "# your code here"
   ]
  },
  {
   "attachments": {},
   "cell_type": "markdown",
   "metadata": {},
   "source": [
    "### 8. Intervals 2 \n",
    "\n",
    "What would be the equivalent quantiles if we wanted the likelihood that the true average falls between them to equals $0.8$?\n",
    "\n",
    "**Hint** you do need code for this one. \n"
   ]
  },
  {
   "cell_type": "code",
   "execution_count": null,
   "metadata": {},
   "outputs": [],
   "source": [
    "# your code here"
   ]
  },
  {
   "attachments": {},
   "cell_type": "markdown",
   "metadata": {},
   "source": [
    "### 9. Optional Exercise.\n",
    "\n",
    "In our distributions class, we saw how the poisson and exponential distributions are related.  The exponential distribution gives us the expected time between events, and the poisson distribution gives us the probability of a number of events in a time period. \n",
    "\n",
    "From the previous exercise we estimated the mean of the exponential distribution associated with the time between calls. \n",
    "\n",
    "Using this information, what is the average number of calls we should expect in a 10 minute period?  use the poisson distribution.\n",
    "\n",
    "**Reminders**: \n",
    "\n",
    "> Intervals between calls follow an exponential distribution of mean $\\frac{1}{\\lambda}$, where $\\lambda$ is the average number of calls per second.  *e.g.* If he average number of calls per second is 2.5, so the average interval between calls is $\\frac{1}{2.5} = 0.4$ seconds.\n",
    "\n",
    "> Hint:  The poisson distribution has a parameter $\\lambda$ which is the rate of events.  The rate of events is the number of events divided by the time period.  So if we have 10 calls in 10 minutes, the rate of events is 1 call per minute.  If we have 10 calls in 5 minutes, the rate of events is 2 calls per minute.  If we have 10 calls in 20 minutes, the rate of events is 0.5 calls per minute.  What is the rate of events for the call center data?"
   ]
  },
  {
   "cell_type": "code",
   "execution_count": 11,
   "metadata": {},
   "outputs": [],
   "source": [
    "# your answer here\n"
   ]
  }
 ],
 "metadata": {
  "kernelspec": {
   "display_name": ".venv",
   "language": "python",
   "name": "python3"
  },
  "language_info": {
   "codemirror_mode": {
    "name": "ipython",
    "version": 3
   },
   "file_extension": ".py",
   "mimetype": "text/x-python",
   "name": "python",
   "nbconvert_exporter": "python",
   "pygments_lexer": "ipython3",
   "version": "3.10.12"
  },
  "orig_nbformat": 4
 },
 "nbformat": 4,
 "nbformat_minor": 2
}
