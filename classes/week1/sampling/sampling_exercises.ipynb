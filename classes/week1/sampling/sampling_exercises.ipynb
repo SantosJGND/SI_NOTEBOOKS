{
 "cells": [
  {
   "attachments": {},
   "cell_type": "markdown",
   "metadata": {},
   "source": [
    "## Law of Large Numbers - Exercises\n",
    "\n",
    "### 1. Introduction\n",
    "\n",
    "The Law of Large Numbers (LLN) is a fundamental theorem in statistics. It states that if we repeat an experiment independently a large number of times and average the result, what we obtain should be close to the expected value. \n",
    "\n",
    "We will begin by exploring the LNN in the context of coin tosses. We will then explore the LLN in the context of the binomial distribution. Finally, we will explore the LLN in the context of the normal distribution.\n",
    "\n",
    "As you might remember, there is a distribution that models the expected outcome of a coin toss. This distribution is called the Bernoulli distribution, and is parametrized by a single parameter $p$ which is the probability of obtaining heads. The probability of obtaining tails is equal to $1-p$.\n",
    "\n",
    "\n",
    "### 2. Simulating coin tosses\n",
    "\n",
    "We will simulate coin tosses in python using the `sample()` function from the `random` package. This function takes two arguments:\n",
    "\n",
    "```python\n",
    "import random\n",
    "population = [\"H\", \"T\"]\n",
    "k = 1\n",
    "random.sample(population, k)\n",
    "```\n",
    "\n",
    "\n",
    "The first argument of the `sample()` function is the vector of possible outcomes. The second argument is the number of times we want to sample from this vector. In this case, we only want to sample once. The output of this function is a vector of length 1 containing either \"H\" or \"T\".\n",
    "\n",
    "**Exercise 1**\n",
    "\n",
    "Simulate a single coin toss using the `sample()` function. "
   ]
  },
  {
   "cell_type": "code",
   "execution_count": 17,
   "metadata": {},
   "outputs": [
    {
     "name": "stdout",
     "output_type": "stream",
     "text": [
      "[1]\n"
     ]
    }
   ],
   "source": [
    "# your code here"
   ]
  },
  {
   "attachments": {},
   "cell_type": "markdown",
   "metadata": {},
   "source": [
    "\n",
    "### Simulating multiple coin tosses\n",
    "\n",
    "The binomial distribution describes the behaviour of sampling repeatedly from a Bernoulli distribution. In this way, a single draw from the binomial distribition, already describes a case in which the LLN applies. \n",
    "\n",
    "Remember the parameters of the binomial distribution are $n$ and $p$. The parameter $n$ is the number of times we sample from the Bernoulli distribution. The parameter $p$ is the probability of obtaining heads in a single draw from the Bernoulli distribution.\n",
    "\n",
    "Accordingly, the expected value of the binomial distribution is $np$.\n",
    "\n",
    "The variance of the binomial distribution is $np(1-p)$.\n",
    "\n",
    "**Exercise 2**\n",
    "\n",
    "Simulate 10 coin tosses using the `sample()` function. What is the proportion of heads in this simulation?\n"
   ]
  },
  {
   "cell_type": "code",
   "execution_count": null,
   "metadata": {},
   "outputs": [],
   "source": [
    "# your code here"
   ]
  },
  {
   "attachments": {},
   "cell_type": "markdown",
   "metadata": {},
   "source": [
    "*Hint: You can use the `mean()` function to compute the proportion of heads.*\n",
    "\n",
    "** Exercise 3**\n",
    "\n",
    "Simulate 1000 coin tosses using the `sample()` function. What is the proportion of heads in this simulation?\n",
    "\n"
   ]
  },
  {
   "cell_type": "code",
   "execution_count": 18,
   "metadata": {},
   "outputs": [],
   "source": [
    "# your code here"
   ]
  },
  {
   "attachments": {},
   "cell_type": "markdown",
   "metadata": {},
   "source": [
    "#### Discussion \n",
    "\n",
    "What do you observe about the proportion of heads as you increase the number of coin tosses? What do you observe about the variance of the proportion of heads as you increase the number of coin tosses? Relate these observations to the LLN.\n"
   ]
  },
  {
   "attachments": {},
   "cell_type": "markdown",
   "metadata": {},
   "source": [
    "- *Please write your answer here.*"
   ]
  },
  {
   "attachments": {},
   "cell_type": "markdown",
   "metadata": {},
   "source": [
    "### 3. The Binomial Distribution\n",
    "\n",
    "The LLN also applies of course to the binomial distribution. \n",
    "\n",
    "In this case, you might be tempted to wonder: What good is this, since we can just increase the sample size (e.g. the number of coin tosses) to approximate the expected value of the binomial distribution?\n",
    "\n",
    "Reflect on this question for a moment. What do you think?\n",
    "\n",
    "The fact is that in real world scenarios you might be limited in sample size. For example, you might be limited by time, money, or other resources. In these cases, it is useful to know that the LLN applies to the binomial distribution. This means that if you repeat the experiment a large number of times, you will obtain a good approximation of the expected value of the binomial distribution.\n",
    "\n",
    "It is also true that in some cases you might not be able to repeat your experiment and are stuck with a single sample. In this case, given that you know the sample size, you can at least compute the variance of the sample. This will give you an idea of how much the sample mean might vary if you were to repeat the experiment.\n",
    "\n",
    "Let's begin by simulating draws from the binomial distribution.\n",
    "\n",
    "**Exercise 4**\n",
    "\n",
    "Simulate 1000 draws from a binomial distribution with parameters $n=10$ and $p=0.5$. What is the mean of this distribution? What is the variance of this distribution?\n",
    "\n",
    "*Hint: You can use the `mean()` and `var()` functions to compute the mean and variance of a vector.*\n",
    "\n",
    "\n"
   ]
  },
  {
   "cell_type": "code",
   "execution_count": null,
   "metadata": {},
   "outputs": [],
   "source": [
    "# your code here"
   ]
  },
  {
   "attachments": {},
   "cell_type": "markdown",
   "metadata": {},
   "source": [
    "### Standard Error\n",
    "\n",
    "Was the mean of the binomial distribution close to the expected value? Was the variance of the binomial distribution close to the expected value? We are observing the effect of sample size. The larger the sample size, the closer the sample mean and variance are to the expected value. \n",
    "\n",
    "But what if we don't know the expected value? or what if we are plannig our sample size? In other words:\n",
    "\n",
    "- If we calculate the average,\n",
    "- Assuming we know the nature of the distribution,\n",
    "\n",
    "How close are we, or do we want to be, to the expected value? What is our **standard error**?\n",
    "\n",
    "\n",
    "\n",
    "**Reminder:** The **standard error** is the standard deviation of the sample mean. It is a measure of how much the sample mean might vary if you were to repeat the experiment. As we saw in the class notebook, there is a formula for computing the standard error of the sample mean. This formula is:\n",
    "\n",
    "$$\n",
    "SE = \\frac{\\sigma}{\\sqrt{n}}\n",
    "$$\n",
    "\n",
    "Where $\\sigma$ is the *standard deviation of the population* and $n$ is the sample size.\n",
    "\n",
    "In case you **don't know** the standard deviation of the population, you can use the *sample standard deviation of the sample* as an estimate. In this case, the formula for the standard error becomes:\n",
    "\n",
    "$$\n",
    "SE = \\frac{s}{\\sqrt{n}}\n",
    "$$\n",
    "\n",
    "Where $s$ is the sample standard deviation and $n$ is the sample size.\n",
    "\n",
    "*Hint: You can use the `std()` function to compute the sample standard deviation.*\n",
    "\n",
    "Finally, remember that the standard deviation is the useful measure, because it is in the same units as the original data.\n",
    "\n",
    "**Exercise 5**\n",
    "\n",
    "Let's say you are studying wether a coin is fair or not. You toss the coin 10 times and obtain 6 heads. \n",
    "\n",
    "- Simulate this experiment. Calculate the sample mean.\n",
    "- What is the *sample standard error* of the mean?\n",
    "\n"
   ]
  },
  {
   "cell_type": "code",
   "execution_count": null,
   "metadata": {},
   "outputs": [],
   "source": [
    "# your code here"
   ]
  },
  {
   "attachments": {},
   "cell_type": "markdown",
   "metadata": {},
   "source": [
    "**Exercise 6**\n",
    "\n",
    "Given what you have learned above, calculate the expected standard error of the sample mean for a binomial distribution with parameters $n=10$ and $p=0.5$.\n",
    "\n",
    "How close to the average is it?"
   ]
  },
  {
   "cell_type": "code",
   "execution_count": null,
   "metadata": {},
   "outputs": [],
   "source": [
    "# your code here"
   ]
  },
  {
   "attachments": {},
   "cell_type": "markdown",
   "metadata": {},
   "source": [
    "### Estimate and Standard Error\n",
    "\n",
    "Let's look at how this estimate of matches the actual standard error of the sample mean for a binomial distribution with parameters $n=10$ and $p=0.5$.\n",
    "\n",
    "This will give you a notion of when it should be applied.\n",
    "\n",
    "**Exercise 7 SE overview**\n",
    "\n",
    "For a range of sample sizes $X$, from 1 to 1000, simulate draws from a binomial distribution with parameters $n=10$ and $p=0.5$. For each sample size, calculate the and the sample standard error of the mean, as well as the arithmetic population standard error.\n",
    "\n",
    "**Remember** the formula for the binomial standard error is, given: for $k$ draws from a binomial distribution with parameters $n$ and $p$:\n",
    "\n",
    "$$\n",
    "SE = \\sqrt{\\frac{n \\times p \\times (1-p)}{k}}\n",
    "$$\n",
    "\n",
    "i.e. \n",
    "\n",
    "$$\n",
    "SE = {\\frac{\\sigma }{\\sqrt n}}\n",
    "$$\n",
    "\n",
    "\n",
    "\n",
    "Where $\\sigma$ is the *standard deviation of the population* and $n$ is the sample size.\n",
    "\n",
    "Then, plot the sample standard error of the mean and the arithmetic population standard error as a function of the sample size.\n",
    "For simplification, i will leave some code for you to use.\n",
    "\n",
    "*Hint: the `np.std()` function calculates the standard deviation of a vector. The `np.sqrt` function calculates the square root of a vector or number.*\n",
    "\n"
   ]
  },
  {
   "cell_type": "code",
   "execution_count": 52,
   "metadata": {},
   "outputs": [],
   "source": [
    "# example code\n",
    "# in the following code, change the variables:\n",
    "# n: number of trials\n",
    "# p: probability of success\n",
    "# range_x: range of sample sizes\n",
    "\n",
    "import numpy as np\n",
    "import matplotlib.pyplot as plt\n",
    "from scipy.stats import binom\n",
    "\n",
    "# parameters\n",
    "n= 0 ## CHANGE THIS\n",
    "p= 0 ## CHANGE THIS\n",
    "range_x= range(2, 100)\n",
    "# lists to store the standard error of the mean\n",
    "standard_error= []\n",
    "sample_standard_error = []\n",
    "\n",
    "\n",
    "# calculate the standard error of the mean\n",
    "for x in range_x:\n",
    "    sample= binom.rvs(n, p, size=x)\n",
    "    # population standard error\n",
    "    binom_standard_error = 0 ## CHANGE THIS\n",
    "    # sample standard error\n",
    "    sample_std = 0 ## CHANGE THIS\n",
    "    #\n",
    "    # append to lists\n",
    "    standard_error.append(binom_standard_error)\n",
    "    sample_standard_error.append(sample_std)\n",
    "\n",
    "###########################################################################################################\n",
    "# plot the standard error of the mean\n",
    "# wide plot\n",
    "plt.figure(figsize=(20,10))\n",
    "# large font\n",
    "plt.rcParams.update({'font.size': 22})\n",
    "plt.plot(standard_error, label='standard error')\n",
    "# plot the sample standard error as scatter plot in red\n",
    "plt.scatter(range_x, sample_standard_error, color='red', label='sample standard error')\n",
    "plt.legend()\n",
    "plt.show()\n"
   ]
  },
  {
   "attachments": {},
   "cell_type": "markdown",
   "metadata": {},
   "source": [
    "- *Comment on the graph above "
   ]
  },
  {
   "attachments": {},
   "cell_type": "markdown",
   "metadata": {},
   "source": [
    "### Final Exercise\n",
    "\n",
    "**Exercise 8**\n",
    "\n",
    "Let us say i plan to estimate the parameters of a binomial distribution with parameters $n=10$ and $p=0.5$. I plan to take a sample $X$ of binomial draws of size $10$ and calculate the sample mean.\n",
    "\n",
    "how big should my sample $X$ be to have a standard error of 0.1?\n",
    "\n",
    "Use any approach you like to solve this problem.\n"
   ]
  }
 ],
 "metadata": {
  "kernelspec": {
   "display_name": ".venv",
   "language": "python",
   "name": "python3"
  },
  "language_info": {
   "codemirror_mode": {
    "name": "ipython",
    "version": 3
   },
   "file_extension": ".py",
   "mimetype": "text/x-python",
   "name": "python",
   "nbconvert_exporter": "python",
   "pygments_lexer": "ipython3",
   "version": "3.10.12"
  },
  "orig_nbformat": 4
 },
 "nbformat": 4,
 "nbformat_minor": 2
}
