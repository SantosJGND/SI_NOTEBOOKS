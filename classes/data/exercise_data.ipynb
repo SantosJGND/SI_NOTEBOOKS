{
 "cells": [
  {
   "cell_type": "code",
   "execution_count": 3,
   "metadata": {},
   "outputs": [
    {
     "name": "stdout",
     "output_type": "stream",
     "text": [
      "[[126. 105. 113.]\n",
      " [106. 116.  86.]\n",
      " [121. 110. 117.]]\n"
     ]
    }
   ],
   "source": [
    "# sgenerate a set of exam scores with population mean 80 and standard deviation 5\n",
    "\n",
    "import random\n",
    "import numpy as np\n",
    "import matplotlib.pyplot as plt\n",
    "\n",
    "def generate_scores(n):\n",
    "    scores = []\n",
    "    for i in range(n):\n",
    "        scores.append(random.gauss(80,5))\n",
    "    return scores\n",
    "\n",
    "# generate conversion scores for a web site with and without a new feature\n",
    "\n",
    "def generate_conversion_scores_with_feature(n):\n",
    "    scores = []\n",
    "    for i in range(n):\n",
    "        scores.append(random.gauss(0.1,0.01))\n",
    "    return scores\n",
    "\n",
    "def generate_conversion_scores_without_feature(n):\n",
    "    scores = []\n",
    "    for i in range(n):\n",
    "        scores.append(random.gauss(0.08,0.01))\n",
    "    return scores\n",
    "\n",
    "# generate a data set with blood pressure levels before and after a treatment\n",
    "\n",
    "def generate_blood_pressure_before(n):\n",
    "    scores = []\n",
    "    for i in range(n):\n",
    "        scores.append(random.gauss(120,10))\n",
    "    return scores\n",
    "\n",
    "def generate_blood_pressure_after(n):\n",
    "    scores = []\n",
    "    for i in range(n):\n",
    "        scores.append(random.gauss(100,10))\n",
    "    return scores\n",
    "\n",
    "# generate contingency table of product preferences across age groups\n",
    "\n",
    "def generate_product_preferences(n):\n",
    "    table = np.zeros((3,3))\n",
    "    for i in range(n):\n",
    "        age = random.randint(0,2)\n",
    "        product = random.randint(0,2)\n",
    "        table[age,product] += 1\n",
    "    return table\n"
   ]
  }
 ],
 "metadata": {
  "kernelspec": {
   "display_name": ".venv",
   "language": "python",
   "name": "python3"
  },
  "language_info": {
   "codemirror_mode": {
    "name": "ipython",
    "version": 3
   },
   "file_extension": ".py",
   "mimetype": "text/x-python",
   "name": "python",
   "nbconvert_exporter": "python",
   "pygments_lexer": "ipython3",
   "version": "3.10.12"
  },
  "orig_nbformat": 4
 },
 "nbformat": 4,
 "nbformat_minor": 2
}
