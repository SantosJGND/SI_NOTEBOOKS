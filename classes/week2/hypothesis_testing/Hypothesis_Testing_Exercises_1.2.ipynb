{
 "cells": [
  {
   "attachments": {},
   "cell_type": "markdown",
   "metadata": {},
   "source": [
    "## Hypothesis testing exercises\n",
    "\n",
    "In this notebook you will apply the concepts you learned in the previous notebook to answer some questions about the data.\n",
    "\n",
    "### Exercise 1 - Exam scores\n",
    "\n",
    "you are provided with an exam data set. Perform a one-sample t-test to determine whether the average score of the students is 50."
   ]
  },
  {
   "cell_type": "code",
   "execution_count": null,
   "metadata": {},
   "outputs": [],
   "source": [
    "from utilities.exercise_utils import generate_scores\n",
    "\n",
    "n_students= 100\n",
    "test_scores= generate_scores(n_students)\n",
    "\n",
    "# perform one-sample t-test"
   ]
  },
  {
   "attachments": {},
   "cell_type": "markdown",
   "metadata": {},
   "source": [
    "### Exercise 2 - Marketing campaign\n",
    "\n",
    "You are running a website, for which you know that the average proportion of repeat costumers is 0.3. You deployed a new marketing campaign and obtain a sample of 100 costumers, of which 40 are repeat costumers. \n",
    "\n",
    "Test if the *observed proportion* significantly deviates from the expected proportion "
   ]
  },
  {
   "cell_type": "code",
   "execution_count": null,
   "metadata": {},
   "outputs": [],
   "source": [
    "# your code here"
   ]
  },
  {
   "attachments": {},
   "cell_type": "markdown",
   "metadata": {},
   "source": [
    "### Exercise 3 - A/B testing\n",
    "\n",
    "You are testing a new feature in your website. You created two versions of the website, one with and one without the new feature.  \n",
    "\n",
    "Conduct a two-sample t-test to determine if there is a significant difference in the average time spent on the website between the two versions.\n"
   ]
  },
  {
   "cell_type": "code",
   "execution_count": null,
   "metadata": {},
   "outputs": [],
   "source": [
    "from utilities.exercise_utils import generate_conversion_scores_with_feature, generate_conversion_scores_without_feature\n",
    "\n",
    "n_conversion_scores= 100\n",
    "conversion_scores_with_feature= generate_conversion_scores_with_feature(n_conversion_scores)\n",
    "conversion_scores_without_feature= generate_conversion_scores_without_feature(n_conversion_scores)\n",
    "\n",
    "# perform two-sample t-test"
   ]
  },
  {
   "attachments": {},
   "cell_type": "markdown",
   "metadata": {},
   "source": [
    "### Exercise 4 - Medical Trial\n",
    "\n",
    "You are testing a new drug to treat a disease. You have a sample of 40 patients, of which 20 are treated with the new drug and 20 are treated with a placebo.\n",
    "\n",
    "Test if the *observed proportion* of patients that recover significantly deviates from the expected proportion of 0.5.\n",
    "\n"
   ]
  },
  {
   "cell_type": "code",
   "execution_count": 1,
   "metadata": {},
   "outputs": [
    {
     "ename": "ModuleNotFoundError",
     "evalue": "No module named 'scipy'",
     "output_type": "error",
     "traceback": [
      "\u001b[1;31m---------------------------------------------------------------------------\u001b[0m",
      "\u001b[1;31mModuleNotFoundError\u001b[0m                       Traceback (most recent call last)",
      "Cell \u001b[1;32mIn[1], line 11\u001b[0m\n\u001b[0;32m      7\u001b[0m trial_with_placebo_scores\u001b[38;5;241m=\u001b[39m trial_with_placebo(n_patients_with_placebo)\n\u001b[0;32m      9\u001b[0m \u001b[38;5;66;03m# perform two-sample t-test\u001b[39;00m\n\u001b[1;32m---> 11\u001b[0m \u001b[38;5;28;01mfrom\u001b[39;00m \u001b[38;5;21;01mscipy\u001b[39;00m\u001b[38;5;21;01m.\u001b[39;00m\u001b[38;5;21;01mstats\u001b[39;00m \u001b[38;5;28;01mimport\u001b[39;00m ttest_ind\n\u001b[0;32m     13\u001b[0m \u001b[38;5;66;03m# your code here\u001b[39;00m\n",
      "\u001b[1;31mModuleNotFoundError\u001b[0m: No module named 'scipy'"
     ]
    },
    {
     "ename": "",
     "evalue": "",
     "output_type": "error",
     "traceback": [
      "\u001b[1;31mThe Kernel crashed while executing code in the current cell or a previous cell. \n",
      "\u001b[1;31mPlease review the code in the cell(s) to identify a possible cause of the failure. \n",
      "\u001b[1;31mClick <a href='https://aka.ms/vscodeJupyterKernelCrash'>here</a> for more info. \n",
      "\u001b[1;31mView Jupyter <a href='command:jupyter.viewOutput'>log</a> for further details."
     ]
    }
   ],
   "source": [
    "from utilities.exercise_utils import trial_with_drug, trial_with_placebo\n",
    "\n",
    "n_patients_with_drug= 20\n",
    "n_patients_with_placebo= 20\n",
    "\n",
    "trial_with_drug_scores= trial_with_drug(n_patients_with_drug)\n",
    "trial_with_placebo_scores= trial_with_placebo(n_patients_with_placebo)\n",
    "\n",
    "# perform two-sample t-test\n",
    "\n",
    "from scipy.stats import ttest_ind\n",
    "\n",
    "# your code here"
   ]
  },
  {
   "attachments": {},
   "cell_type": "markdown",
   "metadata": {},
   "source": [
    "### Exercise 5 - Medical Trial 2\n",
    "\n",
    "In the same situation above, change the sample sizes used in the experiment and see how the results change.\n"
   ]
  }
 ],
 "metadata": {
  "kernelspec": {
   "display_name": ".venv",
   "language": "python",
   "name": "python3"
  },
  "language_info": {
   "codemirror_mode": {
    "name": "ipython",
    "version": 3
   },
   "file_extension": ".py",
   "mimetype": "text/x-python",
   "name": "python",
   "nbconvert_exporter": "python",
   "pygments_lexer": "ipython3",
   "version": "3.10.11"
  },
  "orig_nbformat": 4
 },
 "nbformat": 4,
 "nbformat_minor": 2
}
