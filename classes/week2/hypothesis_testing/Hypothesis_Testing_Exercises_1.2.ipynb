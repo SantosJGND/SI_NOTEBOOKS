{
 "cells": [
  {
   "attachments": {},
   "cell_type": "markdown",
   "metadata": {},
   "source": [
    "## Hypothesis testing exercises\n",
    "\n",
    "In this notebook you will apply the concepts you learned in the previous notebook to answer some questions about the data.\n",
    "\n",
    "### Exercise 1 - Exam scores\n",
    "\n",
    "you are provided with an exam data set. Perform a one-sample t-test to determine whether the average score of the students is 50."
   ]
  },
  {
   "cell_type": "code",
   "execution_count": null,
   "metadata": {},
   "outputs": [],
   "source": [
    "from utilities.exercise_utils import generate_scores\n",
    "\n",
    "n_students= 100\n",
    "test_scores= generate_scores(n_students)\n",
    "\n",
    "# perform one-sample t-test"
   ]
  },
  {
   "attachments": {},
   "cell_type": "markdown",
   "metadata": {},
   "source": [
    "### Exercise 2 - Marketing campaign\n",
    "\n",
    "You are running a website, for which you know that the average proportion of repeat costumers is 0.3. You deployed a new marketing campaign and obtain a sample of 100 costumers, of which 40 are repeat costumers. \n",
    "\n",
    "Test if the *observed proportion* significantly deviates from the expected proportion "
   ]
  },
  {
   "cell_type": "code",
   "execution_count": null,
   "metadata": {},
   "outputs": [],
   "source": [
    "# your code here"
   ]
  },
  {
   "attachments": {},
   "cell_type": "markdown",
   "metadata": {},
   "source": [
    "### Exercise 3 - A/B testing\n",
    "\n",
    "You are testing a new feature in your website. You created two versions of the website, one with and one without the new feature.  \n",
    "\n",
    "Conduct a two-sample t-test to determine if there is a significant difference in the average time spent on the website between the two versions.\n"
   ]
  },
  {
   "cell_type": "code",
   "execution_count": null,
   "metadata": {},
   "outputs": [],
   "source": [
    "from utilities.exercise_utils import generate_conversion_scores_with_feature, generate_conversion_scores_without_feature\n",
    "\n",
    "n_conversion_scores= 100\n",
    "conversion_scores_with_feature= generate_conversion_scores_with_feature(n_conversion_scores)\n",
    "conversion_scores_without_feature= generate_conversion_scores_without_feature(n_conversion_scores)\n",
    "\n",
    "# perform two-sample t-test"
   ]
  },
  {
   "attachments": {},
   "cell_type": "markdown",
   "metadata": {},
   "source": [
    "### Exercise 4 - Medical Trial\n",
    "\n",
    "You are testing a new drug to treat a disease. You have a sample of 40 patients, of which 20 are treated with the new drug and 20 are treated with a placebo.\n",
    "\n",
    "Test if the *observed proportion* of patients that recover significantly deviates from the expected proportion of 0.5.\n",
    "\n"
   ]
  },
  {
   "cell_type": "code",
   "execution_count": 1,
   "metadata": {},
   "outputs": [],
   "source": [
    "from utilities.exercise_utils import trial_with_drug, trial_with_placebo\n",
    "\n",
    "n_patients_with_drug= 20\n",
    "n_patients_with_placebo= 20\n",
    "\n",
    "trial_with_drug_scores= trial_with_drug(n_patients_with_drug)\n",
    "trial_with_placebo_scores= trial_with_placebo(n_patients_with_placebo)\n",
    "\n",
    "# perform two-sample t-test\n",
    "\n",
    "from scipy.stats import ttest_ind\n",
    "\n",
    "# your code here"
   ]
  },
  {
   "attachments": {},
   "cell_type": "markdown",
   "metadata": {},
   "source": [
    "### Exercise 5 - Medial Trial 2\n",
    "\n",
    "In the same situation above, change the sample sizes used in the experiment and see how the results change.\n"
   ]
  }
 ],
 "metadata": {
  "kernelspec": {
   "display_name": ".venv",
   "language": "python",
   "name": "python3"
  },
  "language_info": {
   "codemirror_mode": {
    "name": "ipython",
    "version": 3
   },
   "file_extension": ".py",
   "mimetype": "text/x-python",
   "name": "python",
   "nbconvert_exporter": "python",
   "pygments_lexer": "ipython3",
   "version": "3.10.12"
  },
  "orig_nbformat": 4
 },
 "nbformat": 4,
 "nbformat_minor": 2
}
