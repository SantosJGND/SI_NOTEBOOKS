{
 "cells": [
  {
   "cell_type": "markdown",
   "metadata": {},
   "source": [
    "## Hypothesis Testing TPC\n",
    "\n",
    "### Exercise 1\n",
    "You now want to test if this patient is an outlier. you set a significance level of 5%. What is the critical value for this test?\n",
    "\n",
    "According to your test, is this patient an outlier?"
   ]
  },
  {
   "cell_type": "markdown",
   "metadata": {},
   "source": [
    "*your answer here*"
   ]
  },
  {
   "cell_type": "markdown",
   "metadata": {},
   "source": [
    "### Exercise 2\n",
    "\n",
    "you are provided with an exam data set of 20 student scores. You want to test if the average score of the population is 70.\n",
    "\n",
    "- One-sample t-test\n",
    "- Two-sample t-test\n",
    "- One sample Z-test"
   ]
  },
  {
   "cell_type": "markdown",
   "metadata": {},
   "source": [
    "*your answer here* "
   ]
  },
  {
   "cell_type": "markdown",
   "metadata": {},
   "source": [
    "### Exercise 3\n",
    "\n",
    "What do all parametric hypothesis tests have in common?"
   ]
  },
  {
   "cell_type": "markdown",
   "metadata": {},
   "source": [
    "*your answer here* \n"
   ]
  },
  {
   "cell_type": "markdown",
   "metadata": {},
   "source": [
    "### Exercise 4\n",
    "\n",
    "You are running a website, for which you are planning a marketing campaign aimed at increasing the conversion rate.\n",
    "\n",
    "You want to perform A/B testing: you will create two versions of the website, one with and one without the new feature. You will then measure the conversion rate of each version and compare them.\n",
    "\n",
    "You deploy the feature, and obtain observations for 1000 costumers for each version (i.e. you have two samples of 1000 observations each). You want to test if the mean conversion rate of the two versions is significantly different.\n",
    "\n",
    "What tipe of hypothesis test should you use?\n",
    "\n",
    "- One-sample t-test\n",
    "- Two-sample t-test\n",
    "- One sample Z-test\n",
    "- Two sample Z-test"
   ]
  },
  {
   "cell_type": "markdown",
   "metadata": {},
   "source": [
    "*your answer here* \n"
   ]
  },
  {
   "cell_type": "markdown",
   "metadata": {},
   "source": [
    "### Exercise 5\n",
    "\n",
    "You run the same hypothesis test on 100 different samples. You set your significance level at 5%.\n",
    "\n",
    "How many times can you expect to reject the null hypothesis incorrectly by chance alone?"
   ]
  },
  {
   "cell_type": "markdown",
   "metadata": {},
   "source": [
    "*your answer here* "
   ]
  }
 ],
 "metadata": {
  "language_info": {
   "name": "python"
  }
 },
 "nbformat": 4,
 "nbformat_minor": 2
}
