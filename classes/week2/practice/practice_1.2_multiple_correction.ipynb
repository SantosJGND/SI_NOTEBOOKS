{
 "cells": [
  {
   "attachments": {},
   "cell_type": "markdown",
   "metadata": {},
   "source": [
    "### Multiple Testing Correction\n",
    "\n",
    "### Why correct for multiple tests?\n",
    "\n",
    "Let's re-state the usual way we think about hypothesis testing, in the scenario where we don't have a specified alternative hypothesis.\n",
    "  > In this case we define as *significant* any result that falls outside of our confidence interval (say 95%). \n",
    "  \n",
    "Notice that this means that we expect 5% of our results to be significant by chance alone. We just decided to accept that something that unlikely is significant. \n",
    "\n",
    "But we are only doing one test. What if we do 100 tests? Then we expect 5 of them to be significant by chance alone.\n",
    "\n",
    "### Error rates.\n",
    "\n",
    "- **the family-wise error rate (FWER)** is the probability of making *at least one* false discovery.\n",
    "\n",
    "- **the false positive** rate is the proportion of tests that are significant by chance alone. It is defined as the number of false positivers, divided by the number of false positives plus the number of true negatives. It is also called the *type I error rate*.\n",
    "\n",
    "$$ \\text{false positive rate} = \\frac{\\text{number of false positives}}{\\text{number of false positives} + \\text{number of true negatives}} $$\n",
    "- **the false discovery** rate is the proportion of significant results that are false positives. It is defined as:\n",
    "\n",
    "$$ \\text{false discovery rate} = \\frac{\\text{number of false positives}}{\\text{number of significant results}} $$\n",
    "\n",
    "\n",
    "#### Example - court of law\n",
    "\n",
    "To illustrate the difference between the last two. In a court of law, if:\n",
    "\n",
    "- you are asking about false positive rate:\n",
    "   > you are asking about the probability that an innocent person is convicted.\n",
    "\n",
    "- you are asking about false discovery rate:\n",
    "   > you are asking about the probability that a convicted person is innocent.\n",
    "\n",
    "\n",
    "#### Example - Python\n",
    "\n"
   ]
  },
  {
   "cell_type": "code",
   "execution_count": 3,
   "metadata": {},
   "outputs": [
    {
     "name": "stdout",
     "output_type": "stream",
     "text": [
      "simulation normal distribution with mean=0, std=1\n",
      "t-test with null hypothesis: mean=0\n",
      "Performing 100 simulations / tests with alpha=0.05\n",
      "Number of positive results: 6\n"
     ]
    }
   ],
   "source": [
    "import numpy as np\n",
    "import scipy.stats as stats\n",
    "\n",
    "np.random.seed(0)\n",
    "\n",
    "alpha = 0.05\n",
    "num_tests = 100\n",
    "num_positive = 0\n",
    "\n",
    "\n",
    "print(f\"simulation normal distribution with mean=0, std=1\")\n",
    "print(f\"t-test with null hypothesis: mean=0\")\n",
    "print(f\"Performing {num_tests} simulations / tests with alpha={alpha}\")\n",
    "\n",
    "for i in range(num_tests):\n",
    "    data = np.random.normal(0, 1, 100)  # Generate random data\n",
    "    _, p_value = stats.ttest_1samp(data, 0)  # Perform t-test\n",
    "    \n",
    "    if p_value < alpha:\n",
    "        num_positive += 1\n",
    "\n",
    "print(f\"Number of positive results: {num_positive}\")"
   ]
  },
  {
   "attachments": {},
   "cell_type": "markdown",
   "metadata": {},
   "source": [
    "\n",
    "### Controlling the false positive rate\n",
    "\n",
    "#### Bonferroni correction\n",
    "\n",
    "The Bonferroni correction controls for the family-wise error rate.\n",
    "\n",
    "Given a desivered lower bound $\\alpha$ on the family-wise error rate (the $p$-value), the Bonferroni correction tests each hypothesis at a significance level of $\\alpha / m$, where $m$ is the number of tests.\n",
    "\n",
    "Procedure:\n",
    "- calculate the p-value for each test\n",
    "- call as significant any test with p-value less than $\\alpha / m$.\n",
    "\n",
    "Pros: Easy to understand and implement.\n",
    "Cons: Can be very conservative.\n",
    "\n",
    "#### Controlling for the false discovery rate\n",
    "\n",
    "The Benjamini-Hochberg procedure controls for the false discovery rate.\n",
    "\n",
    "It is less conservative than the bonferroni correction. \n",
    "\n",
    "Procedure:\n",
    "- calculate the p-value for each test\n",
    "- order the p-values from smallest to largest\n",
    "- call as significant any test with p-value less than $\\alpha i / m$, where $i$ is the rank of the p-value in the ordered list.\n",
    "\n",
    "Pros: Less conservative than Bonferroni correction.\n",
    "Cons: Can be difficult to understand and implement.\n",
    "\n",
    "#### Adjusted P-values\n",
    "\n",
    "Another method of controlling the false discovery rate is to adjust the p-values themselves.\n",
    "\n",
    "\n"
   ]
  },
  {
   "cell_type": "code",
   "execution_count": 11,
   "metadata": {},
   "outputs": [
    {
     "name": "stdout",
     "output_type": "stream",
     "text": [
      "Number of positive results without correction: 51\n",
      "Number of positive results with Bonferroni correction: 0\n",
      "Number of positive results with Benjamin-Hochberg correction: 0\n",
      "Number of positive results with adjusted p-values correction: 0\n"
     ]
    }
   ],
   "source": [
    "import numpy as np\n",
    "import scipy.stats as stats\n",
    "\n",
    "np.random.seed(0)\n",
    "\n",
    "alpha = 0.040\n",
    "num_tests = 1000\n",
    "num_positive = 0\n",
    "\n",
    "# Lists to store the results for each correction\n",
    "results_no_correction = []\n",
    "results_bonferroni = []\n",
    "results_benjamin_hochberg = []\n",
    "results_adjusted_pvalues = []\n",
    "pvalues= []\n",
    "\n",
    "for i in range(num_tests): # notice the variable i\n",
    "    data = np.random.normal(0, 1, 100)  # Generate random data\n",
    "    _, p_value = stats.ttest_1samp(data, 0)  # Perform t-test\n",
    "    \n",
    "    results_no_correction.append(p_value < alpha)\n",
    "    results_bonferroni.append(p_value < alpha / num_tests)\n",
    "    pvalues.append(p_value)\n",
    "\n",
    "\n",
    "results_benjamin_hochberg = np.array(sorted(pvalues)) < alpha / num_tests\n",
    "results_adjusted_pvalues=  np.array(sorted(pvalues)) * num_tests < alpha\n",
    "\n",
    "num_positive_no_correction = sum(results_no_correction)\n",
    "num_positive_bonferroni = sum(results_bonferroni)\n",
    "num_positive_benjamin_hochberg = sum(results_benjamin_hochberg)\n",
    "num_positive_adjusted_pvalues = sum(results_adjusted_pvalues)\n",
    "\n",
    "print(f\"Number of positive results without correction: {num_positive_no_correction}\")\n",
    "print(f\"Number of positive results with Bonferroni correction: {num_positive_bonferroni}\")\n",
    "print(f\"Number of positive results with Benjamin-Hochberg correction: {num_positive_benjamin_hochberg}\")\n",
    "print(f\"Number of positive results with adjusted p-values correction: {num_positive_adjusted_pvalues}\")"
   ]
  },
  {
   "attachments": {},
   "cell_type": "markdown",
   "metadata": {},
   "source": [
    "### Notes on corrected p-values\n",
    "\n",
    "- Corrected p-values do not behave as normal p-values. \n",
    "\n",
    "In some circumstances you might be brought to study the distribution of p-values. This is a bad idea if you are using corrected p-values.\n",
    "\n",
    "Circumstances in which you might want to study the distribution of p-values:\n",
    "- you are trying to understand the behaviour of a test\n",
    "- you are checking for bias\n",
    "- you are comparing the behaviour of different tests"
   ]
  }
 ],
 "metadata": {
  "kernelspec": {
   "display_name": ".venv",
   "language": "python",
   "name": "python3"
  },
  "language_info": {
   "codemirror_mode": {
    "name": "ipython",
    "version": 3
   },
   "file_extension": ".py",
   "mimetype": "text/x-python",
   "name": "python",
   "nbconvert_exporter": "python",
   "pygments_lexer": "ipython3",
   "version": "3.10.12"
  },
  "orig_nbformat": 4
 },
 "nbformat": 4,
 "nbformat_minor": 2
}
