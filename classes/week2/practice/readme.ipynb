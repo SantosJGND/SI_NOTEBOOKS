{
 "cells": [
  {
   "cell_type": "markdown",
   "metadata": {},
   "source": [
    "### Statistical Inference in Python \n",
    "\n",
    "\n",
    "#### The scipy.stats package\n",
    "\n",
    "Accessing functions from the scipy.stats package:\n",
    "\n",
    "```python\n",
    "from scipy.stats import continuous_distribution_name, discrete_distribution_name\n",
    "continuous_distribution_name.pdf(x, *args, **kwargs) # Probability density function\n",
    "continuous_distribution_name.cdf(x, *args, **kwargs) # Cumulative distribution function\n",
    "continuous_distribution_name.ppf(x, *args, **kwargs) # Percent point function (inverse of cdf — percentiles).\n",
    "continuous_distribution_name.rvs(*args, **kwargs) # Random variates.\n",
    "```\n",
    "\n",
    "```python\n",
    "from scipy.stats import continuous_distribution_name, discrete_distribution_name\n",
    "discrete_distribution_name.pmf(x, *args, **kwargs) # Probability mass function\n",
    "discrete_distribution_name.cdf(x, *args, **kwargs) # Cumulative distribution function\n",
    "discrete_distribution_name.ppf(x, *args, **kwargs) # Percent point function (inverse of cdf — percentiles).\n",
    "discrete_distribution_name.rvs(*args, **kwargs) # Random variates.\n",
    "\n",
    "```\n",
    "\n",
    "#### Examples\n",
    "\n",
    "#### The Normal Distribution\n",
    "\n",
    "- parameters: mean, standard deviation\n",
    "\n",
    "```python\n",
    "from scipy.stats import norm\n",
    "mean= 0\n",
    "std = 1\n",
    "norm.pdf(x, mean, std) # Probability density function\n",
    "```\n",
    "\n",
    "#### The Binomial Distribution\n",
    "\n",
    "- parameters: number of trials, probability of success\n",
    "\n",
    "```python\n",
    "from scipy.stats import binom\n",
    "n = 10\n",
    "p = 0.5\n",
    "binom.pmf(x, n, p) # Probability mass function\n",
    "```\n",
    "\n",
    "#### The Poisson Distribution\n",
    "\n",
    "- parameters: rate\n",
    "\n",
    "```python\n",
    "from scipy.stats import poisson\n",
    "rate = 2\n",
    "poisson.pmf(x, rate) # Probability mass function\n",
    "```\n",
    "\n",
    "#### The Exponential Distribution\n",
    "\n",
    "- parameters: rate\n",
    "\n",
    "```python\n",
    "from scipy.stats import expon\n",
    "rate = 2\n",
    "expon.pdf(x, rate) # Probability density function\n",
    "```\n",
    "\n",
    "\n",
    "\n"
   ]
  },
  {
   "cell_type": "code",
   "execution_count": 6,
   "metadata": {},
   "outputs": [
    {
     "data": {
      "text/plain": [
       "0.6321205588285577"
      ]
     },
     "execution_count": 6,
     "metadata": {},
     "output_type": "execute_result"
    }
   ],
   "source": [
    "from scipy.stats import expon \n",
    "\n",
    "average_time_between_arrivals = 5\n",
    "arrival_rate = 1/average_time_between_arrivals\n",
    "\n",
    "expon.cdf(, scale=1/arrival_rate)\n"
   ]
  }
 ],
 "metadata": {
  "kernelspec": {
   "display_name": ".venv",
   "language": "python",
   "name": "python3"
  },
  "language_info": {
   "codemirror_mode": {
    "name": "ipython",
    "version": 3
   },
   "file_extension": ".py",
   "mimetype": "text/x-python",
   "name": "python",
   "nbconvert_exporter": "python",
   "pygments_lexer": "ipython3",
   "version": "3.10.12"
  }
 },
 "nbformat": 4,
 "nbformat_minor": 2
}
