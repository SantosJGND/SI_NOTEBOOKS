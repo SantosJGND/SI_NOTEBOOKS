{
 "cells": [
  {
   "cell_type": "markdown",
   "metadata": {},
   "source": [
    "## Statistical Inference Exam\n",
    "\n",
    "Write the answers to the questions in the space provided. \n",
    "\n",
    "You may create additional cells for your answers if needed.\n",
    "\n",
    "You may answer in Portuguese or English.\n",
    "\n",
    "### Exercise 1\n",
    "\n",
    "\n",
    "Suppose the die has been “loaded” so that $P(1) = \\frac{1}{12}$ and $P(6) = \\frac{3}{12}$, and the remaining of the outcomes remain equally likely ($\\frac{1}{6}$). find the probability that the number rolled is both even and greater than 2.\n"
   ]
  },
  {
   "cell_type": "code",
   "execution_count": 6,
   "metadata": {},
   "outputs": [],
   "source": [
    "### Answer:"
   ]
  },
  {
   "cell_type": "markdown",
   "metadata": {},
   "source": [
    "### Exercise 2\n",
    "\n",
    "In a certain city, consider a crime that has occurred. The police have arrested a suspect based on the available evidence. The accuracy of the forensic evidence used in this city is as follows:\n",
    "- The test correctly identifies the suspect in 98% of cases when the suspect is guilty (sensitivity).\n",
    "- The test correctly excludes the suspect in 97% of cases when the suspect is innocent (specificity).\n",
    "\n",
    "### Given Information:\n",
    "- Prior to any evidence, the probability of a randomly selected person being guilty of this crime is 0.1% (P(Guilty) = 0.001).\n",
    "\n",
    "### Task:\n",
    "Calculate the updated probability that the suspect is guilty given that the test results are positive (P(Guilty | Positive Test)) using Bayes' theorem.\n",
    "\n",
    "### Using Bayes' Theorem:\n",
    "$$ P(Guilty | Positive Test) = \\frac{P(Positive Test | Guilty) \\times P(Guilty)}{P(Positive Test)} $$\n",
    "\n",
    "Given:\n",
    "- Sensitivity ($P(Positive Test | Guilty)$) = 0.98\n",
    "- Prevalence ($P(Guilty)$) = 0.001\n",
    "- We need to calculate $P(Positive Test)$, which requires considering both true positives and false positives.\n",
    "\n",
    "Applying Bayes' theorem using the provided sensitivity, prevalence, and other relevant probabilities : \n",
    "\n",
    "    Calculate the updated probability of guilt given a positive test result.\n"
   ]
  },
  {
   "cell_type": "code",
   "execution_count": 5,
   "metadata": {},
   "outputs": [],
   "source": [
    "#### Answer:"
   ]
  },
  {
   "cell_type": "markdown",
   "metadata": {},
   "source": [
    "### Exercise 3\n",
    "\n",
    "An experiment has two events A and B such that $P(A) = 0.3$, $P(B) = 0.6$, and $P(A \\cap B) = 0.18$. Are A and B independent? Why or why not?"
   ]
  },
  {
   "cell_type": "code",
   "execution_count": 4,
   "metadata": {},
   "outputs": [],
   "source": [
    "### Answer:"
   ]
  },
  {
   "cell_type": "markdown",
   "metadata": {},
   "source": [
    "### Exercise 4\n",
    "\n",
    "\n",
    "An experiement has two events A and such that $P(A) = 0.3$, $P(B) = 0.6$, and $P(A|B) = 0$. Calculate $P(A \\cup B)$. Are A and B independent? Why or why not?"
   ]
  },
  {
   "cell_type": "code",
   "execution_count": 3,
   "metadata": {},
   "outputs": [],
   "source": [
    "### Answer:"
   ]
  },
  {
   "cell_type": "markdown",
   "metadata": {},
   "source": [
    "### Exercise 5\n",
    "\n",
    "Let $X$ be a random variable with the following probability mass function:\n",
    "\n",
    "$$\n",
    "\\begin{array}\n",
    "{c|c|c|c|c}\n",
    "P(X=x) & 0.1 & 0.2 & 0.3 & 0.4 \\\\\n",
    "\\hline\n",
    "x & 0 & 1 & 2 & 3 \n",
    "\\end{array}\n",
    "$$\n",
    "\n",
    "Compute the expected value and variance of $X$."
   ]
  },
  {
   "cell_type": "code",
   "execution_count": 2,
   "metadata": {},
   "outputs": [],
   "source": [
    "### Answer:"
   ]
  },
  {
   "cell_type": "markdown",
   "metadata": {},
   "source": [
    "### Exercise 5.1\n",
    "\n",
    "Using the probability mass function from the previous exercise, what is the probability of $X$ being greater than 1?"
   ]
  },
  {
   "cell_type": "code",
   "execution_count": 1,
   "metadata": {},
   "outputs": [],
   "source": [
    "#### Answer:"
   ]
  },
  {
   "cell_type": "markdown",
   "metadata": {},
   "source": [
    "### Exercise 6\n",
    "\n",
    "Match the following distributions with the application that best describes them:\n",
    "\n",
    "- Binomial\n",
    "- Poisson\n",
    "- Normal\n",
    "- Exponential\n",
    "\n",
    "#### Applications:\n",
    "\n",
    "- The number of people who arrive at a bus stop in a given hour.\n",
    "- The proportion of costumers that buy a product (counts, e.g. 2 in 10).\n",
    "- The amount between arrivals at a bus stop.\n",
    "- The distribution of the mean of a sample of 100 people's height.\n"
   ]
  },
  {
   "cell_type": "code",
   "execution_count": null,
   "metadata": {},
   "outputs": [],
   "source": [
    "### Answer:\n",
    "## example\n",
    "## distribution - application"
   ]
  },
  {
   "cell_type": "markdown",
   "metadata": {},
   "source": [
    "### Exercise 7\n",
    "\n",
    "In order to perform statistical inference on a sample, we need to assume that observations are independent and identically distributed (*i.i.d.*). What does this mean?"
   ]
  },
  {
   "cell_type": "code",
   "execution_count": null,
   "metadata": {},
   "outputs": [],
   "source": [
    "### Answer:"
   ]
  },
  {
   "cell_type": "markdown",
   "metadata": {},
   "source": [
    "### Exercise 7.1\n",
    "\n",
    "You are given two data sets. \n",
    "\n",
    "- The first one is a sample of 1000 observations from a normal distribution with mean 0 and standard deviation 1. \n",
    "- The second one is a sample of 1000 observations from a normal distribution with mean 0 and standard deviation 10. \n",
    "\n",
    "\n",
    "You merge the two samples into a single data set. Is the resulting data set *i.i.d.*? Why or why not?"
   ]
  },
  {
   "cell_type": "code",
   "execution_count": 8,
   "metadata": {},
   "outputs": [],
   "source": [
    "### Answer:"
   ]
  },
  {
   "cell_type": "markdown",
   "metadata": {},
   "source": [
    "### Exercise 8\n",
    "\n",
    "The number of daily visitors at a website per day follows a normal distribution. You know the parameters (mean and standard deviation) of this distribution. \n",
    "\n",
    "You want to calculate the probability that you will have *more than 1000 visitors in a day*. Which function should you use?\n",
    "\n",
    "- the Cumulative Distribution Function (CDF) - `norm.cdf`\n",
    "- the Probability Density Function (PDF) - `norm.pdf`\n",
    "- the Percent Point Function (PPF) - `norm.ppf`\n",
    "- the Survival Function (SF) - `norm.sf`\n",
    "\n"
   ]
  },
  {
   "cell_type": "code",
   "execution_count": null,
   "metadata": {},
   "outputs": [],
   "source": [
    "#### Answer:"
   ]
  },
  {
   "cell_type": "markdown",
   "metadata": {},
   "source": [
    "### Exercise 9\n",
    "\n",
    "The number of daily clients at your restaurant follows a poisson distribution. You know the parameter (lambda) of this distribution.\n",
    "\n",
    "You are throwing an event. You consider it a success if you receive *more clients than you have 95% of the days*. \n",
    "\n",
    "Which function should you use to calculate the minimum number of visitors you need to have in order to consider the event a success? \n",
    "\n",
    "- the Cumulative Distribution Function (CDF) - `norm.cdf`\n",
    "- the Probability Density Function (PDF) - `norm.pdf`\n",
    "- the Percent Point Function (PPF) - `norm.ppf`\n",
    "- the Survival Function (SF) - `norm.sf`\n"
   ]
  },
  {
   "cell_type": "code",
   "execution_count": 11,
   "metadata": {},
   "outputs": [],
   "source": [
    "#### Answer:"
   ]
  },
  {
   "cell_type": "markdown",
   "metadata": {},
   "source": [
    "### Exercise 10\n",
    "\n",
    "You own a shop, and you know that the number of clients that enter your shop per hour follows a poisson distribution with a lambda of 10.\n",
    "\n",
    "How would you calculate the probability of having *7 clients or less* in a given hour?\n",
    "\n",
    "- `poisson.cdf(7, 10)` - the Cumulative Distribution Function (CDF)\n",
    "- `poisson.pdf(7, 10)` - the Probability Mass Function (PMF)\n",
    "- `poisson.ppf(7, 10)` - the Percent Point Function (PPF)\n",
    "\n"
   ]
  },
  {
   "cell_type": "code",
   "execution_count": null,
   "metadata": {},
   "outputs": [],
   "source": [
    "### Answer:"
   ]
  },
  {
   "cell_type": "markdown",
   "metadata": {},
   "source": [
    "### Exercise 11\n",
    "\n",
    "The number of calls received by a call center per hour follows a *discrete* Poisson distribution with an average of 5 calls per hour. How should you calculate:\n",
    "\n",
    "The probability that the call center *will receive exactly 10 calls in a given hour*?\n",
    "\n",
    "- `poisson.cdf(10, 5)` - the Cumulative Distribution Function (CDF)\n",
    "- `poisson.pmf(10, 5)` - the Probability Mass Function (PMF)\n",
    "- `poisson.ppf(10, 5)` - the Percent Point Function (PPF)\n",
    "- `poisson.sf(10, 5)` - the Survival Function (SF)\n"
   ]
  },
  {
   "cell_type": "code",
   "execution_count": null,
   "metadata": {},
   "outputs": [],
   "source": [
    "# your answer here\n"
   ]
  },
  {
   "cell_type": "markdown",
   "metadata": {},
   "source": [
    "### Exercise 12\n",
    "\n",
    "You own a restaurant that receives an average of 100 customers per day. Assume this number follows a Poisson distribution. What is the probability of getting *110 or more* customers tomorrow? How would you calculate this?\n",
    "\n",
    "- `poisson.cdf(110, 100)` - the Cumulative Distribution Function (CDF)\n",
    "- `1 - poisson.cdf(110, 100)` - the Survival Function (SF)\n",
    "- `poisson.ppf(1 - 110, 100)` - the Percent Point Function (PPF)"
   ]
  },
  {
   "cell_type": "code",
   "execution_count": null,
   "metadata": {},
   "outputs": [],
   "source": [
    "# your answer here"
   ]
  },
  {
   "cell_type": "markdown",
   "metadata": {},
   "source": [
    "### Exercise 12.1\n",
    "\n",
    "Consider the same restaurant. How would you calculate the the 0.3 quantile of the number of customers that might visit your restaurant tomorrow?\n",
    "\n",
    "- `poisson.pmf(0.3, 100)` - the Probability Mass Function (PMF)\n",
    "- `poisson.ppf(0.3, 100)` - the Percent Point Function (PPF)"
   ]
  },
  {
   "cell_type": "code",
   "execution_count": 12,
   "metadata": {},
   "outputs": [
    {
     "data": {
      "text/plain": [
       "95.0"
      ]
     },
     "execution_count": 12,
     "metadata": {},
     "output_type": "execute_result"
    }
   ],
   "source": [
    "# your answer here"
   ]
  },
  {
   "cell_type": "markdown",
   "metadata": {},
   "source": [
    "### Exercise 12.2\n",
    "\n",
    "Following Exercise 11, your estimated the 0.3 quantile is 95. Explain what this means.\n"
   ]
  },
  {
   "cell_type": "code",
   "execution_count": 9,
   "metadata": {},
   "outputs": [],
   "source": [
    "# your answer here"
   ]
  },
  {
   "cell_type": "markdown",
   "metadata": {},
   "source": [
    "### Exercise 13\n",
    "\n",
    "Consider the same restaurant. In a month, you will receive a visit from a health inspector. The health inspector will close your restaurant if the number of customers is in the top 5% of the distribution. \n",
    "\n",
    "How would you calculate the minimum number of customers you need to have in order to be closed by the health inspector?\n",
    "\n",
    "- `poisson.ppf(0.95, 100)` - the Percent Point Function (PPF)\n",
    "- `poisson.pmf(0.95, 100)` - the Probability Mass Function (PMF)\n",
    "- `poisson.cdf(0.95, 100)` - the Cumulative Distribution Function (CDF)\n"
   ]
  },
  {
   "cell_type": "code",
   "execution_count": null,
   "metadata": {},
   "outputs": [],
   "source": [
    "# your answer here"
   ]
  },
  {
   "cell_type": "markdown",
   "metadata": {},
   "source": [
    "### Exercise 14\n",
    "\n",
    "You roll a fair die 10 times and calculate the mean. You repeat this process 100 times. What do you expect is nature of the distribution of the mean of the 10 rolls of the die? \n"
   ]
  },
  {
   "cell_type": "code",
   "execution_count": null,
   "metadata": {},
   "outputs": [],
   "source": [
    "### Answer:"
   ]
  },
  {
   "cell_type": "markdown",
   "metadata": {},
   "source": [
    "### Exercise 15\n",
    "\n",
    "You are working at a call center, and you monitor the rate of incoming calls for 8 hours in a day. You take the average of the number of calls per hour in that period. \n",
    "\n",
    "The $average$ of your sample is 50 calls per hour with a standard deviation ($\\sigma$) of 3.\n",
    "\n",
    "- What is your **standard error** for the average number of calls per hour in a day (consider 8h = 8 observations)?\n",
    "\n",
    "**Hint:** The standard error is the standard deviation of the sample mean: $\\frac{\\sigma}{\\sqrt{n}}$.\n",
    "\n"
   ]
  },
  {
   "cell_type": "code",
   "execution_count": 15,
   "metadata": {},
   "outputs": [],
   "source": [
    "### Answer:"
   ]
  },
  {
   "cell_type": "markdown",
   "metadata": {},
   "source": [
    "### Exercise 15.1\n",
    "\n",
    "Continuing the exercise above. You repeat this process over a month. You now have (30 * 8) 240 observations. \n",
    "\n",
    "\n",
    "- What is the **standard error** of the average number of calls per hour (consider 240 observations)?\n",
    "\n",
    "- Compare to your previous result. What do you observe? What is the relationship between the size of the sample and the standard error?"
   ]
  },
  {
   "cell_type": "code",
   "execution_count": null,
   "metadata": {},
   "outputs": [],
   "source": [
    "### Answer:"
   ]
  },
  {
   "cell_type": "markdown",
   "metadata": {},
   "source": [
    "### Exercise 15.2\n",
    "\n",
    "You want to describe your analysis of the behaviour of the number of calls per hour to your boss. How would you describe the distribution of the average number of calls per hour, with attention to error?"
   ]
  },
  {
   "cell_type": "code",
   "execution_count": 10,
   "metadata": {},
   "outputs": [],
   "source": [
    "### Answer:"
   ]
  },
  {
   "cell_type": "markdown",
   "metadata": {},
   "source": [
    "### Exercise 16\n",
    "\n",
    "Average daily temperature in a city follows a normal distribution with a mean of 21 degrees and a standard deviation of 3 degrees.\n",
    "\n",
    "Calculate the $z-score$ of the following temperatures:\n",
    "\n",
    "- 18 degrees\n",
    "- 24 degrees\n",
    "- 27 degrees\n"
   ]
  },
  {
   "cell_type": "code",
   "execution_count": null,
   "metadata": {},
   "outputs": [],
   "source": [
    "### Answer:"
   ]
  },
  {
   "cell_type": "markdown",
   "metadata": {},
   "source": [
    "### Exercise 17\n",
    "\n",
    "You are working with a normal distribution of mean 0 and standard deviation 1 (the standard normal distribution). \n",
    "\n",
    "The CDF of 1 standard deviation to the right of the mean is 0.8413 (84.13%). \n",
    "\n",
    "Explain what this means.\n"
   ]
  },
  {
   "cell_type": "code",
   "execution_count": 17,
   "metadata": {},
   "outputs": [],
   "source": [
    "### Answer:\n"
   ]
  },
  {
   "cell_type": "markdown",
   "metadata": {},
   "source": [
    "### Exercise 18\n",
    "\n",
    "You have a normal distribution of mean 420 and standard deviation of 15. You want to construct a confidence interval. \n",
    "\n",
    "You want your *upper bound* to be set at the quantile of 84.13 (84.13%).\n",
    "\n",
    "What is the upper bound of your confidence interval?\n",
    "\n",
    "- 420 + 15 * 0.8413\n",
    "- 420 + 15 * 0.1587\n",
    "- 420 + 15 * 1\n",
    "\n",
    "**Hint:** The CDF of 1 standard deviation to the right of the mean is 0.8413 (84.13%). \n"
   ]
  },
  {
   "cell_type": "code",
   "execution_count": null,
   "metadata": {},
   "outputs": [],
   "source": [
    "### Answer:"
   ]
  },
  {
   "cell_type": "markdown",
   "metadata": {},
   "source": [
    "### Exercise  18.1\n",
    "\n",
    "What is the lower bound of your confidence interval (symmetrical to the mean)?\n",
    "\n",
    "- 420 - 15 * 0.8413\n",
    "- 420 + 15 * 0.1587\n",
    "- 420 - 15 * 1\n"
   ]
  },
  {
   "cell_type": "code",
   "execution_count": null,
   "metadata": {},
   "outputs": [],
   "source": [
    "### Answer:"
   ]
  },
  {
   "cell_type": "markdown",
   "metadata": {},
   "source": [
    "### Exercise 19\n",
    "\n",
    "You establish a significance threshold of 5% for your confidence interval (alpha = 0.05).\n",
    "\n",
    "You are constructing a confidence interval for the mean. How would you determine your *lower bound* (left critical value)?\n",
    "\n",
    "- `norm.ppf(0.95)`\n",
    "- `norm.ppf(0.05)`\n",
    "- `norm.ppf(0.975)`\n",
    "- `norm.ppf(0.025)`\n",
    "\n"
   ]
  },
  {
   "cell_type": "code",
   "execution_count": 21,
   "metadata": {},
   "outputs": [],
   "source": [
    "### Answer:"
   ]
  },
  {
   "cell_type": "markdown",
   "metadata": {},
   "source": [
    "### Exercise 20\n",
    "\n",
    "construct a confidence interval of $90 \\% $ for a normal distribution of :\n",
    "- mean 120\n",
    "- standard deviation 10\n",
    " \n",
    " **Hint** In python, the 95% quantile of a standard normal distribution  ($z_{0.95}$) is given by:\n",
    "\n",
    " \n",
    " ```python\n",
    "    from scipy.stats import norm\n",
    "    norm.ppf(0.95)\n",
    "```"
   ]
  },
  {
   "cell_type": "code",
   "execution_count": 25,
   "metadata": {},
   "outputs": [],
   "source": [
    "### Answer:"
   ]
  },
  {
   "cell_type": "markdown",
   "metadata": {},
   "source": [
    "### Exercise 21\n",
    "\n",
    "You have access average daily temperature data for 100 days, for which you have calculated a mean of 20 degrees and a standard deviation of 5 degrees. You assume that the temperature follows a normal distribution.\n",
    "\n",
    "You want to construct a confidence interval for the average temperature in this city. You want your confidence interval to have a confidence level of 95%.\n",
    "\n",
    "What is the upper bound of your confidence interval?\n",
    "\n",
    "- 20 + 5 * 1.96 * $\\frac{1}{\\sqrt{100}}$\n",
    "- 20 + 5 * 2.58 * $\\frac{1}{\\sqrt{100}}$\n",
    "- 20 + 5 * 1.64 * $\\frac{1}{\\sqrt{100}}$\n",
    "\n",
    "\n",
    "**Hint**: The 97.5% quantile of a standard normal distribution ($z_{0.975}$) is calculated in python as such:\n",
    "\n",
    "```python\n",
    "from scipy.stats import norm\n",
    "norm.ppf(0.975, loc=0, scale=1)\n",
    "```\n"
   ]
  },
  {
   "cell_type": "code",
   "execution_count": 2,
   "metadata": {},
   "outputs": [],
   "source": [
    "### Answer:\n"
   ]
  },
  {
   "cell_type": "markdown",
   "metadata": {},
   "source": [
    "### Exercise 21.1\n",
    "\n",
    "What is the lower bound of your confidence interval?\n"
   ]
  },
  {
   "cell_type": "code",
   "execution_count": 24,
   "metadata": {},
   "outputs": [],
   "source": [
    "### Answer:"
   ]
  },
  {
   "cell_type": "markdown",
   "metadata": {},
   "source": [
    "### Exercise 22\n",
    "\n",
    "You want to construct a 95 % confidence interval for the average temperature. What quantiles should you use?\n",
    "\n",
    "- 0.05 and 0.95\n",
    "- 0.025 and 0.975\n",
    "\n"
   ]
  },
  {
   "cell_type": "code",
   "execution_count": null,
   "metadata": {},
   "outputs": [],
   "source": [
    "### Answer:"
   ]
  },
  {
   "cell_type": "markdown",
   "metadata": {},
   "source": [
    "### Exercise 21\n",
    "\n",
    "You have access maximum daily temperature data for 100 days, for which you have calculated a mean of 20 degrees and a standard deviation of 5 degrees. You assume that the temperature follows a normal distribution.\n",
    "\n",
    "Construct a 95% confidence interval for the *daily maximum temperature* (assuming a normal distribution).\n",
    "\n",
    "- i. what is the lower bound of the interval?\n",
    "- ii. what is the upper bound of the interval?\n",
    "\n"
   ]
  },
  {
   "cell_type": "code",
   "execution_count": null,
   "metadata": {},
   "outputs": [],
   "source": [
    "### Answer:"
   ]
  },
  {
   "cell_type": "markdown",
   "metadata": {},
   "source": [
    "### Exercise 22\n",
    "\n",
    "You have another data set with only 10 observations. You wish to calculate a 95% confidence interval for the average temperature. Which distribution should you use?\n",
    "\n",
    "- Normal\n",
    "- Student's t\n"
   ]
  },
  {
   "cell_type": "code",
   "execution_count": null,
   "metadata": {},
   "outputs": [],
   "source": [
    "### Answer:"
   ]
  },
  {
   "cell_type": "markdown",
   "metadata": {},
   "source": [
    "### Exercise 23\n",
    "\n",
    "\n",
    "\n",
    "You have another data set with only 10 observations. You calculate a mean of 20 degrees and a standard deviation of 5 degrees. You assume that the temperature follows a normal distribution.\n",
    "\n",
    "- i. What is the *standard error* of the mean?\n",
    "\n",
    "- ii. Construct a 95% confidence interval for the average temperature.\n",
    "\n",
    "\n",
    "**Hint:** The t-qantile ($t_{\\alpha/2}$) for a 95% confidence interval with 9 degrees of is calculated in python as:\n",
    "\n",
    "```python\n",
    "from scipy.stats import t\n",
    "t.ppf(0.975, 9)\n",
    "```\n"
   ]
  },
  {
   "cell_type": "code",
   "execution_count": 4,
   "metadata": {},
   "outputs": [],
   "source": [
    "### Answer:"
   ]
  },
  {
   "cell_type": "markdown",
   "metadata": {},
   "source": [
    "### Exercise 24\n",
    "\n",
    "You are a doctor measuring the blood pressure of a patient. You know that the blood pressure of the population is normally distributed with a *mean of 120* mmHg and a *standard deviation of 10* mmHg. You measure the blood pressure of your patient and find that it is 130 mmHg.\n",
    "\n",
    "- i. What is the z-score of your patient?\n"
   ]
  },
  {
   "cell_type": "code",
   "execution_count": null,
   "metadata": {},
   "outputs": [],
   "source": [
    "### Answer:"
   ]
  },
  {
   "cell_type": "markdown",
   "metadata": {},
   "source": [
    "### Exercise 24.1\n",
    "\n",
    "Working on the same patient, what is the probability that the blood pressure of your patient is *equal or above* 130 mmHg?\n",
    "\n",
    "**Hint:** Use the appropriate method of the `norm` distribution.\n",
    "\n"
   ]
  },
  {
   "cell_type": "code",
   "execution_count": null,
   "metadata": {},
   "outputs": [],
   "source": [
    "from scipy.stats import norm\n",
    "# your answer here"
   ]
  },
  {
   "cell_type": "markdown",
   "metadata": {},
   "source": [
    "### Exercise 24.2\n",
    "\n",
    "You now receive a patient with a blood pressure of 140 mmHg. what is the $p$-value of this observation?\n"
   ]
  },
  {
   "cell_type": "code",
   "execution_count": 3,
   "metadata": {},
   "outputs": [],
   "source": [
    "### Answer: "
   ]
  },
  {
   "cell_type": "markdown",
   "metadata": {},
   "source": [
    "#### Exercise 24.3\n",
    "\n",
    "Define the following terms:\n",
    "\n",
    "- $p$-value.\n",
    "- critical value."
   ]
  },
  {
   "cell_type": "code",
   "execution_count": null,
   "metadata": {},
   "outputs": [],
   "source": [
    "### Answer:"
   ]
  },
  {
   "cell_type": "markdown",
   "metadata": {},
   "source": [
    "### Exercise 24.4\n",
    "\n",
    "You now want to test if this patient is an outlier. you set a significance level of 5%. What is the *critical value* for this test?\n",
    "\n",
    "According to your test, is this patient an outlier?"
   ]
  },
  {
   "cell_type": "code",
   "execution_count": null,
   "metadata": {},
   "outputs": [],
   "source": [
    "# your answer here"
   ]
  },
  {
   "cell_type": "markdown",
   "metadata": {},
   "source": [
    "### Exercise 25\n",
    "\n",
    "You are setting up a two-sided hypothesis test. You construct a confidence interval, setting your *lower bound at the 5%* quantile and your *upper bound at the 95%* quantile. \n",
    "\n",
    "what is the probability that you will make a type I error (falsely reject the null hypothesis)?"
   ]
  },
  {
   "cell_type": "code",
   "execution_count": null,
   "metadata": {},
   "outputs": [],
   "source": [
    "### Answer:"
   ]
  },
  {
   "cell_type": "markdown",
   "metadata": {},
   "source": [
    "### Exercise 26\n",
    "\n",
    "You are doing a routine hypothesis test. You set your significance level at 5%. You calculate a $p$-value of 0.03 for your observation.\n",
    "\n",
    "What is your conclusion?"
   ]
  },
  {
   "cell_type": "code",
   "execution_count": null,
   "metadata": {},
   "outputs": [],
   "source": [
    "### Answer:"
   ]
  },
  {
   "cell_type": "markdown",
   "metadata": {},
   "source": [
    "### Exercise 27\n",
    "\n",
    "You run the same hypothesis test on 100 different samples. You set your significance level at 5%. \n",
    "\n",
    "How many times can you expect to *reject the null hypothesis incorrectly by chance alone*?"
   ]
  },
  {
   "cell_type": "code",
   "execution_count": 5,
   "metadata": {},
   "outputs": [],
   "source": [
    "### Answer:"
   ]
  },
  {
   "cell_type": "markdown",
   "metadata": {},
   "source": [
    "### Exercise 28\n",
    "\n",
    "you are provided with an exam data set of 20 student scores. You want to test if the average score of the population is 70. \n",
    "\n",
    "- One-sample t-test\n",
    "- Two-sample t-test\n",
    "- One sample Z-test\n",
    "\n"
   ]
  },
  {
   "cell_type": "code",
   "execution_count": null,
   "metadata": {},
   "outputs": [],
   "source": [
    "# your answer here"
   ]
  },
  {
   "cell_type": "markdown",
   "metadata": {},
   "source": [
    "### Exercise 29\n",
    "\n",
    "You are running a website, for which you know that the average proportion of repeat costumers is 0.3. You deployed a new marketing campaign and obtain a sample of 100 costumers, of which 40 are repeat costumers.\n",
    "\n",
    "\n",
    "You decide to use a *binomial test* to test if the observed proportion is *significantly greater than* the expected proportion of 0.3. What type of test should you run?\n",
    "\n",
    "- 1. One-sided test\n",
    "- 2. Two-sided test\n"
   ]
  },
  {
   "cell_type": "code",
   "execution_count": null,
   "metadata": {},
   "outputs": [],
   "source": [
    "# your answer here"
   ]
  },
  {
   "cell_type": "markdown",
   "metadata": {},
   "source": [
    "### Exercise 29.1\n",
    "\n",
    "Given your answer above, what is the quantile you should use for a given $\\alpha$? \n",
    "\n",
    "- 1. $z_{\\alpha}$\n",
    "- 2. $z_{\\alpha/2}$\n",
    "- 3. $z_{1-\\alpha/2}$\n",
    "- 4. $z_{1-\\alpha}$"
   ]
  },
  {
   "cell_type": "markdown",
   "metadata": {},
   "source": [
    "### Exercise 30\n",
    "\n",
    "What do all *parametric* hypothesis tests have in common?\n"
   ]
  },
  {
   "cell_type": "code",
   "execution_count": 7,
   "metadata": {},
   "outputs": [],
   "source": [
    "### Answer:"
   ]
  },
  {
   "cell_type": "markdown",
   "metadata": {},
   "source": [
    "### Exercise 32\n",
    "\n",
    "You are running a website, for which you are planning a marketing campaign aimed at increasing the conversion rate. \n",
    "\n",
    "You want to perform **A/B testing**: you will create two versions of the website, one with and one without the new feature. You will then measure the conversion rate of each version and compare them.\n",
    "\n",
    "You deploy the feature, and obtain observations for 1000 costumers for each version (i.e. you have two samples of 1000 observations each). You want to test if the mean conversion rate of the two versions is significantly different.\n",
    "\n",
    "What tipe of hypothesis test should you use?\n",
    "\n",
    "- One-sample t-test\n",
    "- Two-sample t-test\n",
    "- One sample Z-test\n",
    "- Two sample Z-test\n"
   ]
  },
  {
   "cell_type": "code",
   "execution_count": null,
   "metadata": {},
   "outputs": [],
   "source": [
    "### Answer:"
   ]
  },
  {
   "cell_type": "markdown",
   "metadata": {},
   "source": [
    "#### Exercise 34\n",
    "\n",
    "Read the first section of the [Notebook](https://www.kaggle.com/code/santosjgnd/practice-1-1-power) on Power.\n",
    "\n",
    "You set up a hypothesis test for your website. You want to be able to detect a difference in conversion rates of 1%.\n",
    "\n",
    "You have calculated a power of 0.8 for the test. What is the probability that you will not be to detect a difference in conversion rates of 1% (Type II error)?"
   ]
  },
  {
   "cell_type": "code",
   "execution_count": 6,
   "metadata": {},
   "outputs": [],
   "source": [
    "### Answer:"
   ]
  }
 ],
 "metadata": {
  "kernelspec": {
   "display_name": ".venv",
   "language": "python",
   "name": "python3"
  },
  "language_info": {
   "codemirror_mode": {
    "name": "ipython",
    "version": 3
   },
   "file_extension": ".py",
   "mimetype": "text/x-python",
   "name": "python",
   "nbconvert_exporter": "python",
   "pygments_lexer": "ipython3",
   "version": "3.10.12"
  }
 },
 "nbformat": 4,
 "nbformat_minor": 2
}
