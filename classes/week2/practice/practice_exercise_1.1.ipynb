{
 "cells": [
  {
   "attachments": {},
   "cell_type": "markdown",
   "metadata": {},
   "source": [
    "### The Tooth Growth Data\n",
    "\n",
    "The `ToothGrowth` data frame has 60 rows and 3 columns. It is the result of a clinical trial of the effect of vitamin C on tooth growth in 60 guinea pigs. \n",
    "\n",
    "### Description\n",
    "\n",
    "A data frame with 60 observations on 3 variables.\n",
    "\n",
    "[,1]\tlen\tnumeric\tTooth length\n",
    "\n",
    "[,2]\tsupp\tfactor\tSupplement type (VC or OJ)\n",
    "\n",
    "[,3]\tdose\tnumeric\tDose in milligrams/day\n",
    "\n",
    "### Details\n",
    "\n",
    "The response is the length of odontoblasts (cells responsible for tooth growth) in 60 guinea pigs. Each animal received one of three dose levels of vitamin C (0.5, 1, and 2 mg/day) by one of two delivery methods, orange juice or ascorbic acid (a form of vitamin C and coded as VC).\n",
    "\n",
    "### Source\n",
    "\n",
    "The dataset comes from C. I. Bliss from The Statistics of Bioassay (1952).\n",
    "\n",
    "\n",
    "### Importing the data set.\n"
   ]
  },
  {
   "cell_type": "code",
   "execution_count": 20,
   "metadata": {},
   "outputs": [
    {
     "data": {
      "text/html": [
       "<div>\n",
       "<style scoped>\n",
       "    .dataframe tbody tr th:only-of-type {\n",
       "        vertical-align: middle;\n",
       "    }\n",
       "\n",
       "    .dataframe tbody tr th {\n",
       "        vertical-align: top;\n",
       "    }\n",
       "\n",
       "    .dataframe thead th {\n",
       "        text-align: right;\n",
       "    }\n",
       "</style>\n",
       "<table border=\"1\" class=\"dataframe\">\n",
       "  <thead>\n",
       "    <tr style=\"text-align: right;\">\n",
       "      <th></th>\n",
       "      <th>len</th>\n",
       "      <th>supp</th>\n",
       "      <th>dose</th>\n",
       "    </tr>\n",
       "  </thead>\n",
       "  <tbody>\n",
       "    <tr>\n",
       "      <th>0</th>\n",
       "      <td>4.2</td>\n",
       "      <td>VC</td>\n",
       "      <td>0.5</td>\n",
       "    </tr>\n",
       "    <tr>\n",
       "      <th>1</th>\n",
       "      <td>11.5</td>\n",
       "      <td>VC</td>\n",
       "      <td>0.5</td>\n",
       "    </tr>\n",
       "    <tr>\n",
       "      <th>2</th>\n",
       "      <td>7.3</td>\n",
       "      <td>VC</td>\n",
       "      <td>0.5</td>\n",
       "    </tr>\n",
       "    <tr>\n",
       "      <th>3</th>\n",
       "      <td>5.8</td>\n",
       "      <td>VC</td>\n",
       "      <td>0.5</td>\n",
       "    </tr>\n",
       "    <tr>\n",
       "      <th>4</th>\n",
       "      <td>6.4</td>\n",
       "      <td>VC</td>\n",
       "      <td>0.5</td>\n",
       "    </tr>\n",
       "  </tbody>\n",
       "</table>\n",
       "</div>"
      ],
      "text/plain": [
       "    len supp  dose\n",
       "0   4.2   VC   0.5\n",
       "1  11.5   VC   0.5\n",
       "2   7.3   VC   0.5\n",
       "3   5.8   VC   0.5\n",
       "4   6.4   VC   0.5"
      ]
     },
     "execution_count": 20,
     "metadata": {},
     "output_type": "execute_result"
    }
   ],
   "source": [
    "import pandas as pd\n",
    "import numpy as np\n",
    "\n",
    "filepath= \"data/ToothGrowth.csv\"\n",
    "df = pd.read_csv(filepath)\n",
    "df.head()\n",
    "\n"
   ]
  },
  {
   "attachments": {},
   "cell_type": "markdown",
   "metadata": {},
   "source": [
    "### Describing the data set."
   ]
  },
  {
   "cell_type": "code",
   "execution_count": 8,
   "metadata": {},
   "outputs": [
    {
     "data": {
      "text/html": [
       "<div>\n",
       "<style scoped>\n",
       "    .dataframe tbody tr th:only-of-type {\n",
       "        vertical-align: middle;\n",
       "    }\n",
       "\n",
       "    .dataframe tbody tr th {\n",
       "        vertical-align: top;\n",
       "    }\n",
       "\n",
       "    .dataframe thead th {\n",
       "        text-align: right;\n",
       "    }\n",
       "</style>\n",
       "<table border=\"1\" class=\"dataframe\">\n",
       "  <thead>\n",
       "    <tr style=\"text-align: right;\">\n",
       "      <th></th>\n",
       "      <th>len</th>\n",
       "      <th>dose</th>\n",
       "    </tr>\n",
       "  </thead>\n",
       "  <tbody>\n",
       "    <tr>\n",
       "      <th>count</th>\n",
       "      <td>5.000000</td>\n",
       "      <td>5.0</td>\n",
       "    </tr>\n",
       "    <tr>\n",
       "      <th>mean</th>\n",
       "      <td>7.040000</td>\n",
       "      <td>0.5</td>\n",
       "    </tr>\n",
       "    <tr>\n",
       "      <th>std</th>\n",
       "      <td>2.737334</td>\n",
       "      <td>0.0</td>\n",
       "    </tr>\n",
       "    <tr>\n",
       "      <th>min</th>\n",
       "      <td>4.200000</td>\n",
       "      <td>0.5</td>\n",
       "    </tr>\n",
       "    <tr>\n",
       "      <th>25%</th>\n",
       "      <td>5.800000</td>\n",
       "      <td>0.5</td>\n",
       "    </tr>\n",
       "    <tr>\n",
       "      <th>50%</th>\n",
       "      <td>6.400000</td>\n",
       "      <td>0.5</td>\n",
       "    </tr>\n",
       "    <tr>\n",
       "      <th>75%</th>\n",
       "      <td>7.300000</td>\n",
       "      <td>0.5</td>\n",
       "    </tr>\n",
       "    <tr>\n",
       "      <th>max</th>\n",
       "      <td>11.500000</td>\n",
       "      <td>0.5</td>\n",
       "    </tr>\n",
       "  </tbody>\n",
       "</table>\n",
       "</div>"
      ],
      "text/plain": [
       "             len  dose\n",
       "count   5.000000   5.0\n",
       "mean    7.040000   0.5\n",
       "std     2.737334   0.0\n",
       "min     4.200000   0.5\n",
       "25%     5.800000   0.5\n",
       "50%     6.400000   0.5\n",
       "75%     7.300000   0.5\n",
       "max    11.500000   0.5"
      ]
     },
     "execution_count": 8,
     "metadata": {},
     "output_type": "execute_result"
    }
   ],
   "source": [
    "df.describe()"
   ]
  },
  {
   "attachments": {},
   "cell_type": "markdown",
   "metadata": {},
   "source": [
    "### Describing the data. \n",
    "\n",
    "This data set was created to study the impact of `supplement` intake, given the `dose`, on the growth rate of odontoblasts in guinea pigs - as measured by their `length` at the end of the experiment.\n",
    "\n",
    "To get a first idea of how supplement and dose impact growth, we will begin by plotting a box plot. On the x axis we group data by `supplement` and `dose`. The y axis describes the length. \n",
    "\n",
    "Boxplots summarize data by representing 50% of the data inside the box. The \"whiskers\" extend to the most extreme data points not considered too extreme.\n",
    "\n"
   ]
  },
  {
   "cell_type": "code",
   "execution_count": 21,
   "metadata": {},
   "outputs": [
    {
     "data": {
      "image/png": "[encoded data removed]",
      "text/plain": [
       "<Figure size 1000x600 with 1 Axes>"
      ]
     },
     "metadata": {},
     "output_type": "display_data"
    }
   ],
   "source": [
    "import seaborn as sns\n",
    "import matplotlib.pyplot as plt\n",
    "\n",
    "plt.figure(figsize=(10, 6))\n",
    "sns.boxplot(data=df, x='supp', y='len', hue='dose')\n",
    "plt.title('Boxplots of len by supp and dose')\n",
    "plt.xlabel('Supp')\n",
    "plt.ylabel('Length')\n",
    "plt.legend(title='Dose')\n",
    "plt.show()\n"
   ]
  },
  {
   "attachments": {},
   "cell_type": "markdown",
   "metadata": {},
   "source": [
    "### Manipulating the data set.\n",
    "\n",
    "#### Subsetting a dataset.\n",
    "\n",
    "If we want to subset the `ToothGrowth` dataset for all the rows where the `supp` column is equal to `VC`, we can use the following syntax:\n",
    "\n",
    "```python\n",
    "\n",
    "df[df['supp'] == 'VC']\n",
    "\n",
    "```\n",
    "\n",
    "To subset for multiple conditions, we can use the following syntax:\n",
    "\n",
    "```python\n",
    "\n",
    "df[(df['column_name'] == 'value') & (df['column_name'] == 'value')]\n",
    "\n",
    "```\n",
    "\n",
    "To create a new dataset with the subsetted data, we can use the following syntax:\n",
    "\n",
    "```python\n",
    "\n",
    "df_subset = df[df['supp'] == 'VC']\n",
    "\n",
    "```\n",
    "\n",
    "#### Extracting Values for a single column.\n",
    "\n",
    "In python, if we want to extract values for a single column, we can use the following syntax:\n",
    "\n",
    "```python\n",
    "\n",
    "df['column_name']\n",
    "\n",
    "```\n",
    "\n",
    "#### Putting it all together.\n",
    "\n",
    "So, if we want the values for the `len` column for all the rows where the `supp` column is equal to `VC`, we can use the following syntax:\n",
    "\n",
    "```python\n",
    "\n",
    "df[df['supp'] == 'VC']['len']\n",
    "\n",
    "```\n",
    "\n",
    "## Exercises\n",
    "\n",
    "#### Execise 1.\n",
    "\n",
    "Subset the `ToothGrowth` dataset for all the rows where the `supp` column is equal to `VC` and the `dose` column is equal to `0.5`.\n"
   ]
  },
  {
   "cell_type": "code",
   "execution_count": null,
   "metadata": {},
   "outputs": [],
   "source": [
    "# your code here"
   ]
  },
  {
   "attachments": {},
   "cell_type": "markdown",
   "metadata": {},
   "source": [
    "#### Exercise 2.\n",
    "\n",
    "Subset the `ToothGrowth` dataset for all the rows where the `supp` column is equal to `OJ` and the `dose` column is equal to `0.5` and extract the values for the `len` column.\n"
   ]
  },
  {
   "cell_type": "code",
   "execution_count": null,
   "metadata": {},
   "outputs": [],
   "source": [
    "# your code here"
   ]
  },
  {
   "attachments": {},
   "cell_type": "markdown",
   "metadata": {},
   "source": [
    "#### Exercise 3.\n",
    "\n",
    "Create a subset dataset for all the rows where the `dose` column is equal to `0.5`. Plot the histograms for the `len` column for the `VC` and `OJ` groups in the subset dataset.\n",
    "\n",
    "**Hint** using the seaborn library, you can use the following syntax to plot a histogram that uses the `supp` column to group the data:\n",
    "\n",
    "```python\n",
    "\n",
    "sns.histplot(data=df, x='len', hue='supp')\n",
    "\n",
    "```"
   ]
  },
  {
   "cell_type": "code",
   "execution_count": null,
   "metadata": {},
   "outputs": [],
   "source": [
    "# your code here"
   ]
  },
  {
   "attachments": {},
   "cell_type": "markdown",
   "metadata": {},
   "source": [
    "#### Exercise 4.\n",
    "\n",
    "We are going to ask whether the type of supplement has an effect on tooth growth. Begin by extracting the values of `len` for the `VC` and `OJ` groups in the `ToothGrowth` dataset, using subsets as seen above. \n",
    "\n",
    "Use a t-test to test the hypothesis that the mean tooth growth for the `VC` group is equal to the mean tooth growth for the `OJ` group.\n",
    "\n",
    "What is the p-value for the test? What is the conclusion of the test?\n"
   ]
  },
  {
   "cell_type": "code",
   "execution_count": null,
   "metadata": {},
   "outputs": [],
   "source": [
    "# your code here"
   ]
  },
  {
   "attachments": {},
   "cell_type": "markdown",
   "metadata": {},
   "source": [
    "#### Exercise 5.\n",
    "\n",
    "We will now analyse the effect of dosage on tooth growth when the supplement is `VC`. \n",
    "\n",
    "Use a t-test to test the hypothesis that the mean tooth growth for the `1` group is equal to the mean tooth growth for the `2` group.\n",
    "\n",
    "**Hint** Begin by extracting the values of `len` in the `ToothGrowth` dataset using the following conditions:\n",
    "- the `supp` column is equal to `VC`\n",
    "- the `dose` column is equal to `1`.\n",
    "    \n",
    "Then extract the values of `len` in the `ToothGrowth` dataset using the following conditions:\n",
    "- the `supp` column is equal to `VC`\n",
    "- the `dose` column is equal to `2`.\n",
    "\n",
    "\n",
    "What is the p-value for the test? What is the conclusion of the test?"
   ]
  },
  {
   "cell_type": "code",
   "execution_count": 23,
   "metadata": {},
   "outputs": [],
   "source": [
    "# your code here "
   ]
  },
  {
   "attachments": {},
   "cell_type": "markdown",
   "metadata": {},
   "source": [
    "####  Exercise 6.\n",
    "\n",
    "Continuing the exercise above, take the average and standard deviation of the values of `len` for the `VC` group when the dosage is `1` and when the dosage is `2`.\n",
    "\n",
    "Assume that the two datasets are normally distributed. Quantify the effect of dosage on tooth growth by calculating the effect size.\n",
    "\n",
    "**Hint** You can calculate means and standard deviations using the following syntax:\n",
    "\n",
    "```python\n",
    "\n",
    "mean = df['column_name'].mean()\n",
    "std = df['column_name'].std()\n",
    "\n",
    "```\n"
   ]
  },
  {
   "cell_type": "code",
   "execution_count": 26,
   "metadata": {},
   "outputs": [],
   "source": [
    "# your code here"
   ]
  },
  {
   "attachments": {},
   "cell_type": "markdown",
   "metadata": {},
   "source": [
    "#### Exercise 7.\n",
    "\n",
    "Using the effect size calculated above, calculate the power of the test for the effect of dosage on tooth growth when the supplement is `VC`, for a significance level of 0.05.\n",
    "\n",
    "**Hint** use the `power.tt_ind_solve_power` function from the `statsmodels.stats.power` library. e.g.\n",
    "\n",
    "```python\n",
    "\n",
    "power.tt_ind_solve_power(effect_size=0.5, nobs1=10, alpha=0.05, power=None, ratio=1.0, alternative='two-sided')\n",
    "\n",
    "```\n",
    "\n",
    "What is the power of the test? What is the conclusion of the test?"
   ]
  },
  {
   "cell_type": "code",
   "execution_count": 27,
   "metadata": {},
   "outputs": [],
   "source": [
    "from statsmodels.stats import power \n",
    "\n",
    "# your code here"
   ]
  },
  {
   "attachments": {},
   "cell_type": "markdown",
   "metadata": {},
   "source": [
    "#### Exercise 6.\n",
    "\n",
    "We are a bit concerned about the assumption of normality in the data. Use a Kolmogorov-Smirnov test to test the hypothesis that the data for the `len` column for the `VC` group when the dosage is `1` is normally distributed.\n",
    "\n",
    "**Hint** use the `kstest` function from the `scipy.stats` library. e.g.\n",
    "\n",
    "```python\n",
    "from scipy.stats import kstest\n",
    "\n",
    "kstest(df['column_name'], 'norm')\n",
    "\n",
    "```\n",
    "\n",
    "What is the p-value for the test? What is the conclusion of the test?"
   ]
  },
  {
   "cell_type": "code",
   "execution_count": 28,
   "metadata": {},
   "outputs": [],
   "source": [
    "# your code here"
   ]
  },
  {
   "attachments": {},
   "cell_type": "markdown",
   "metadata": {},
   "source": [
    "#### Exercise 7.\n",
    "\n",
    "From the boxplot at the beginning of the notebook, it would appear the effect of dosage might be different when the supplement is `OJ`. \n",
    "\n",
    "1. Establish a hypothesis regarding the effect of dosage on tooth growth when the supplement is `OJ`.\n",
    "\n",
    "2. Repeat the analysis above for the `OJ` group, for dosages 1 and 2.\n",
    "\n",
    "What are your conclusions?"
   ]
  },
  {
   "cell_type": "code",
   "execution_count": null,
   "metadata": {},
   "outputs": [],
   "source": [
    "# your code here"
   ]
  }
 ],
 "metadata": {
  "kernelspec": {
   "display_name": ".venv",
   "language": "python",
   "name": "python3"
  },
  "language_info": {
   "codemirror_mode": {
    "name": "ipython",
    "version": 3
   },
   "file_extension": ".py",
   "mimetype": "text/x-python",
   "name": "python",
   "nbconvert_exporter": "python",
   "pygments_lexer": "ipython3",
   "version": "3.10.12"
  },
  "orig_nbformat": 4
 },
 "nbformat": 4,
 "nbformat_minor": 2
}
