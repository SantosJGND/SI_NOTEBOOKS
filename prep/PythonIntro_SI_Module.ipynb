{
 "cells": [
  {
   "cell_type": "markdown",
   "metadata": {},
   "source": [
    "### Pyhon - a short introduction\n",
    "\n",
    "In this notebook we will be introducing basic concepts of python that will make classes easier to follow. \n",
    "\n",
    "Python is a high-level, interpreted, interactive and object-oriented scripting language. Python is designed to be highly readable. It uses English keywords frequently where as other languages use punctuation, and it has fewer syntactical constructions than other languages.\n",
    "\n",
    "### Python Identifiers\n",
    "\n",
    "A Python identifier is a name used to identify a variable, function, class, module or other object. An identifier starts with a letter A to Z or a to z or an underscore (_) followed by zero or more letters, underscores and digits (0 to 9).\n",
    "\n",
    "Python does not allow punctuation characters such as @, $, and % within identifiers. Python is a case sensitive programming language. Thus, Manpower and manpower are two different identifiers in Python.\n",
    "\n",
    "Here are naming conventions for Python identifiers −\n",
    "\n",
    "- Class names start with an uppercase letter. All other identifiers start with a lowercase letter.\n",
    "- Starting an identifier with a single leading underscore indicates that the identifier is private.\n",
    "- Starting an identifier with two leading underscores indicates a strongly private identifier.\n",
    "- If the identifier also ends with two trailing underscores, the identifier is a language-defined special name.\n",
    "\n",
    "\n",
    "### Reserved Words\n",
    "\n",
    "The following list shows the Python keywords. These are reserved words and you cannot use them as constants or variables or any other identifier names. All the Python keywords contain lowercase letters only.\n",
    "\n",
    "and, as, assert, break, class, continue, def, del, elif, else, except, exec, finally, for, from, global, if, import, in, is, lambda, not, or, pass, print, raise, return, try, while, with, yield\n",
    "\n",
    "### Lines and Indentation\n",
    "\n",
    "Python provides no braces to indicate blocks of code for class and function definitions or flow control. Blocks of code are denoted by line indentation, which is rigidly enforced.\n",
    "\n",
    "The number of spaces in the indentation is variable, but all statements within the block must be indented the same amount. For example −\n",
    "\n",
    "```python\n",
    "\n",
    "if True:\n",
    "    print(\"True\")\n",
    "else:\n",
    "    print(\"False\")\n",
    "```\n",
    "\n",
    "However, the following block generates an error −\n",
    "\n",
    "```python\n",
    "\n",
    "if True:\n",
    "    print(\"Answer\")\n",
    "    print(\"True\")\n",
    "else:\n",
    "    print(\"Answer\")\n",
    "  print(\"False\")\n",
    "```\n",
    "\n",
    "### Multi-Line Statements\n",
    "\n",
    "Statements in Python typically end with a new line. Python does, however, allow the use of the line continuation character (\\) to denote that the line should continue. For example −\n",
    "\n",
    "```python\n",
    "\n",
    "total = item_one + \\\n",
    "        item_two + \\\n",
    "        item_three\n",
    "```\n",
    "\n",
    "Statements contained within the [], {}, or () brackets do not need to use the line continuation character. For example −\n",
    "\n",
    "```python\n",
    "\n",
    "days = ['Monday', 'Tuesday', 'Wednesday',\n",
    "        'Thursday', 'Friday']\n",
    "```\n",
    "\n",
    "### Quotation in Python\n",
    "\n",
    "Python accepts single ('), double (\") and triple (''' or \"\"\") quotes to denote string literals, as long as the same type of quote starts and ends the string.\n",
    "\n",
    "The triple quotes are used to span the string across multiple lines. For example, all the following are legal −\n",
    "\n",
    "```python\n",
    "\n",
    "word = 'word'\n",
    "sentence = \"This is a sentence.\"\n",
    "paragraph = \"\"\"This is a paragraph. It is\n",
    "\n",
    "made up of multiple lines and sentences.\"\"\"\n",
    "```\n",
    "\n",
    "### Working in python\n",
    "\n",
    "Python is an interpreted language, which means that you can run the program as soon as you make changes to the file. You can run the python program by typing `python filename.py` in the terminal.\n",
    "\n",
    "### Python - Variable Types\n",
    "\n",
    "Python has five standard data types −\n",
    "\n",
    "- Numbers\n",
    "- String\n",
    "- List\n",
    "- Tuple\n",
    "- Dictionary\n",
    "\n",
    "### Python - Numbers\n",
    "\n",
    "Number data types store numeric values. Number objects are created when you assign a value to them. For example −\n",
    "\n",
    "```python\n",
    "\n",
    "var1 = 1\n",
    "var2 = 10\n",
    "```\n",
    "\n",
    "You can also delete the reference to a number object by using the del statement. The syntax of the del statement is −\n",
    "\n",
    "```python\n",
    "\n",
    "del var1[,var2[,var3[....,varN]]]\n",
    "```\n",
    "\n",
    "You can delete a single object or multiple objects by using the del statement. For example −\n",
    "\n",
    "```python\n",
    "\n",
    "del var\n",
    "\n",
    "del var_a, var_b\n",
    "```\n",
    "\n",
    "Python supports four different numerical types −\n",
    "\n",
    "- int (signed integers)\n",
    "- long (long integers, they can also be represented in octal and hexadecimal)\n",
    "- float (floating point real values)\n",
    "- complex (complex numbers)\n",
    "\n",
    "### Python - Strings\n",
    "\n",
    "Strings in Python are identified as a contiguous set of characters represented in the quotation marks. Python allows for either pairs of single or double quotes. Subsets of strings can be taken using the slice operator ([ ] and [:] ) with indexes starting at 0 in the beginning of the string and working their way from -1 at the end.\n",
    "\n",
    "The plus (+) sign is the string concatenation operator and the asterisk (*) is the repetition operator. For example −\n"
   ]
  },
  {
   "cell_type": "code",
   "execution_count": null,
   "metadata": {},
   "outputs": [],
   "source": [
    "my_str = 'Hello World!'\n",
    "\n",
    "print(my_str) # Output: Hello World!\n",
    "print(my_str[0]) # Output: H\n",
    "print(my_str[6]) # Output: W\n",
    "print(my_str[-1]) # Output: !\n",
    "print(my_str[-2]) # Output: d\n",
    "print(my_str[0:5]) # Output: Hello\n"
   ]
  },
  {
   "cell_type": "markdown",
   "metadata": {},
   "source": [
    "### Python - Lists\n",
    "\n",
    "A list contains items separated by commas and enclosed within square brackets ([]). To some extent, lists are similar to arrays in C. One difference between them is that all the items belonging to a list can be of different data type.\n",
    "\n",
    "The values stored in a list can be accessed using the slice operator ([ ] and [:]) with indexes starting at 0 in the beginning of the list and working their way to end -1. The plus (+) sign is the list concatenation operator, and the asterisk (*) is the repetition operator. For example −"
   ]
  },
  {
   "cell_type": "code",
   "execution_count": null,
   "metadata": {},
   "outputs": [],
   "source": [
    "\n",
    "my_list = [ 'abcd', 786 , 2.23, 'john', 70.2 ]\n",
    "tinylist = [123, 'john']\n",
    "\n",
    "print(my_list)          # Prints complete list\n",
    "print(my_list[0])       # Prints first element of the list\n",
    "print(my_list[1:3])     # Prints elements starting from 2nd till 3rd\n",
    "print(my_list[2:])      # Prints elements starting from 3rd element\n",
    "print(tinylist * 2)     # Prints list two times\n",
    "print(my_list + tinylist) # Prints concatenated lists\n",
    "\n"
   ]
  },
  {
   "cell_type": "markdown",
   "metadata": {},
   "source": [
    "### Python - Tuples\n",
    "\n",
    "A tuple is another sequence data type that is similar to the list. A tuple consists of a number of values separated by commas. Unlike lists, however, tuples are enclosed within parentheses.\n",
    "\n",
    "The main differences between lists and tuples are: Lists are enclosed in brackets ( [ ] ) and their elements and size can be changed, while tuples are enclosed in parentheses ( ( ) ) and cannot be updated. Tuples can be thought of as read-only lists. For example −\n",
    "\n"
   ]
  },
  {
   "cell_type": "code",
   "execution_count": null,
   "metadata": {},
   "outputs": [],
   "source": [
    "tuple = ( 'abcd', 786 , 2.23, 'john', 70.2 )\n",
    "\n",
    "tinytuple = (123, 'john')\n",
    "\n",
    "print tuple           # Prints complete list\n",
    "print tuple[0]        # Prints first element of the list\n",
    "print tuple[1:3]      # Prints elements starting from 2nd till 3rd\n",
    "print tuple[2:]       # Prints elements starting from 3rd element\n",
    "print tinytuple * 2   # Prints list two times\n",
    "print tuple + tinytuple # Prints concatenated lists"
   ]
  },
  {
   "cell_type": "markdown",
   "metadata": {},
   "source": [
    "### Python - Dictionary\n",
    "\n",
    "Python's dictionaries are kind of hash table type. They work like associative arrays or hashes found in Perl and consist of key-value pairs. A dictionary key can be almost any Python type, but are usually numbers or strings. Values, on the other hand, can be any arbitrary Python object.\n",
    "\n",
    "Dictionaries are enclosed by curly braces ({ }) and values can be assigned and accessed using square braces ([]). For example −\n",
    "\n",
    "\n"
   ]
  },
  {
   "cell_type": "code",
   "execution_count": null,
   "metadata": {},
   "outputs": [],
   "source": [
    "dict = {}\n",
    "dict['one'] = \"This is one\"\n",
    "dict[2]     = \"This is two\"\n",
    "\n",
    "tinydict = {'name': 'john','code':6734, 'dept': 'sales'}\n",
    "\n",
    "print dict['one']       # Prints value for 'one' key\n",
    "print dict[2]           # Prints value for 2 key\n",
    "print tinydict          # Prints complete dictionary\n",
    "print tinydict.keys()   # Prints all the keys\n",
    "\n",
    "print tinydict.values() # Prints all the values"
   ]
  },
  {
   "cell_type": "markdown",
   "metadata": {},
   "source": [
    "### Python - Basic Operators\n",
    "\n",
    "Operators are the constructs which can manipulate the value of operands. Consider the expression 4 + 5 = 9. Here, 4 and 5 are called operands and + is called operator.\n",
    "\n",
    "Python language supports the following types of operators −\n",
    "\n",
    "- Arithmetic Operators, e.g. +, -, *, /, %, **, //\n",
    "- Comparison (Relational) Operators, e.g. ==, !=, >, <, >=, <=\n",
    "- Assignment Operators, e.g. =, +=, -=, *=, /=, %=, **=, //=\n",
    "- Logical Operators, e.g. and, or, not\n",
    "- Bitwise Operators, e.g. &, |, ^, ~, <<, >>\n",
    "- Membership Operators, e.g. in, not in\n",
    "- Identity Operators, e.g. is, is not\n",
    "\n",
    "### Python - Decision Making\n",
    "\n",
    "Decision making is required when we want to execute a code only if a certain condition is satisfied. The if…elif…else statement is used in Python for decision making.\n",
    "\n",
    "```python\n",
    "\n",
    "if expression:\n",
    "   statement(s)\n",
    "elif expression:\n",
    "   statement(s)\n",
    "else:\n",
    "   statement(s)\n",
    "```\n",
    "\n",
    "### Python - Loops\n",
    "\n",
    "Python programming language provides following types of loops to handle looping requirements.\n",
    "\n",
    "- While Loop\n",
    "- For Loop\n",
    "- Nested Loops\n",
    "\n",
    "## Examples of Python code\n",
    "\n",
    "These examples consist of basic python code that will help you understand the language better.\n",
    "\n",
    "Because this is a notebook, you can run the code in the cell by pressing `Shift + Enter` or by clicking the `Run` button in the toolbar.\n",
    "\n",
    "### Example 1: Hello World"
   ]
  },
  {
   "cell_type": "code",
   "execution_count": null,
   "metadata": {},
   "outputs": [],
   "source": [
    "print(\"Hello, World!\")"
   ]
  },
  {
   "cell_type": "markdown",
   "metadata": {},
   "source": [
    "### Example 2: Variables and Data Types\n"
   ]
  },
  {
   "cell_type": "code",
   "execution_count": null,
   "metadata": {},
   "outputs": [],
   "source": [
    "counter = 100          # An integer assignment\n",
    "miles   = 1000.0       # A floating point\n",
    "name    = \"John\"       # A string\n",
    "\n",
    "print(miles)\n",
    "print(counter)\n",
    "print(name)"
   ]
  },
  {
   "cell_type": "markdown",
   "metadata": {},
   "source": [
    "### Example 3: Lists and Tuples"
   ]
  },
  {
   "cell_type": "code",
   "execution_count": null,
   "metadata": {},
   "outputs": [],
   "source": [
    "first_list = [ 'abcd', 786 , 2.23, 'john', 70.2 ]\n",
    "tinylist = [123, 'john']\n",
    "\n",
    "print(first_list)          # Prints complete list\n",
    "print(first_list[0])       # Prints first element of the list\n",
    "print(first_list[1:3])     # Prints elements starting from 2nd till 3rd\n",
    "print(first_list[2:])      # Prints elements starting from 3rd element\n",
    "print(tinylist * 2)  # Prints list two times"
   ]
  },
  {
   "cell_type": "markdown",
   "metadata": {},
   "source": [
    "\n",
    "### Example 4: Dictionaries\n",
    "\n",
    "Dictionary is a collection of key-value pairs. It is unordered, changeable and indexed. In Python, dictionaries are defined within braces {} with each item being a pair in the form key:value. Key and value can be of any type.\n",
    "\n",
    "Use the `keys()` method to get the keys of the dictionary. Use the `values()` method to get the values of the dictionary. the `items()` method returns a list containing a tuple for each key value pair.\n"
   ]
  },
  {
   "cell_type": "code",
   "execution_count": null,
   "metadata": {},
   "outputs": [],
   "source": [
    "\n",
    "my_dict = {}\n",
    "my_dict['name'] = 'John'\n",
    "my_dict['age'] = 25\n",
    "my_dict['dept'] = 'sales'\n",
    "\n",
    "print(my_dict)\n",
    "print(my_dict.keys())\n",
    "print(my_dict.values())\n",
    "print(my_dict.items())\n",
    "\n",
    "print(my_dict['name'])"
   ]
  },
  {
   "cell_type": "markdown",
   "metadata": {},
   "source": [
    "\n",
    "### Example 5: Decision Making\n",
    "\n",
    "Decision making is required when we want to execute a code only if a certain condition is satisfied. The if…elif…else statement is used in Python for decision making.\n",
    "\n",
    "```python\n",
    "\n",
    "expression = True\n",
    "\n",
    "if expression:\n",
    "   statement(s)\n",
    "elif expression:\n",
    "   statement(s)\n",
    "else:\n",
    "   statement(s)\n",
    "```\n",
    "\n",
    "Expression is evaluated and the code block is executed only if the expression is True. If the expression is False, the code block is skipped. Expressions can be anything that returns a boolean value, such as a comparison or a function that returns a boolean value.\n",
    "\n"
   ]
  },
  {
   "cell_type": "code",
   "execution_count": null,
   "metadata": {},
   "outputs": [],
   "source": [
    "x = 10\n",
    "y = 20\n",
    "\n",
    "if x > y:\n",
    "    print(\"x is greater than y\")\n",
    "elif x < y:\n",
    "    print(\"x is less than y\")\n",
    "else:\n",
    "    print(\"x is equal to y\")"
   ]
  },
  {
   "cell_type": "markdown",
   "metadata": {},
   "source": [
    "### Example 6: Loops\n",
    "\n",
    "Python programming language provides following types of loops to handle looping requirements.\n",
    "\n",
    "- While Loop\n",
    "- For Loop\n",
    "- Nested Loops\n",
    "\n",
    "In a loop, you are repeating a block of code multiple times. The `while` loop is used to repeat a block of code as long as the condition is True. The `for` loop is used to iterate over a sequence (list, tuple, string) or other iterable objects. \n",
    "\n",
    "The `for` loop is used to iterate over a sequence (list, tuple, string) or other iterable objects. It is by far the most common. let's see an example of a `for` loop.\n",
    "\n",
    "The `range()` function returns a sequence of numbers, starting from 0 by default, and increments by 1.\n"
   ]
  },
  {
   "cell_type": "code",
   "execution_count": null,
   "metadata": {},
   "outputs": [],
   "source": [
    "my_range= range(10)\n",
    "\n",
    "for i in my_range:\n",
    "    print(i)"
   ]
  },
  {
   "cell_type": "markdown",
   "metadata": {},
   "source": [
    "You can iterate over lists, tuples, strings, and dictionaries using a `for` loop. You can also use the `break` statement to break out of the loop, and the `continue` statement to skip the current block and return to the `for` statement.\n",
    "\n",
    "Let's look at a more complex example of a `for` loop.\n"
   ]
  },
  {
   "cell_type": "code",
   "execution_count": null,
   "metadata": {},
   "outputs": [],
   "source": [
    "for letter in 'Python':     # First Example\n",
    "   print('Current Letter :', letter)\n",
    "\n",
    "fruits = ['banana', 'apple',  'mango']\n",
    "\n",
    "for fruit in fruits:        # Second Example\n",
    "   print('Current fruit :', fruit)\n",
    "\n",
    "print(\"Good bye!\")"
   ]
  },
  {
   "cell_type": "markdown",
   "metadata": {},
   "source": [
    "# Python libraries\n",
    "\n",
    "A library is a collection of modules. A module is a file containing Python definitions and statements. The file name is the module name with the suffix .py appended.\n",
    "\n",
    "libraries are important in Python because they allow you to use code that has already been written by other developers. This saves you time and effort because you don't have to write the code from scratch.\n",
    "\n",
    "### Example 7: Using Libraries\n",
    "\n",
    "To use a library, you need to import it. You can import the entire library or just specific modules from the library. You can also give the library a nickname to make it easier to use.\n",
    "\n",
    "Let's look at an example of using the `math` library. The `math` library provides mathematical functions and constants. You can use the `import` statement to import the entire library or just specific modules from the library.\n",
    "\n",
    "\n",
    "\n",
    "\n",
    "\n"
   ]
  },
  {
   "cell_type": "code",
   "execution_count": null,
   "metadata": {},
   "outputs": [],
   "source": [
    "import math\n",
    "\n",
    "print(math.pi)\n",
    "print(math.sqrt(16))"
   ]
  },
  {
   "cell_type": "markdown",
   "metadata": {},
   "source": [
    "You can also give the library a nickname to make it easier to use. For example, you can import the `math` library and give it the nickname `m`.\n",
    "\n",
    "You can then use the functions and constants in the `math` library by prefixing them with the nickname `m`.\n",
    "\n",
    "Let's look at an example of using the `math` library to calculate the square root of a number.\n"
   ]
  },
  {
   "cell_type": "code",
   "execution_count": null,
   "metadata": {},
   "outputs": [],
   "source": [
    "import math as m\n",
    "\n",
    "print(m.sqrt(16))"
   ]
  },
  {
   "cell_type": "markdown",
   "metadata": {},
   "source": [
    "### Example 8: Using Libraries\n",
    "\n",
    "You can also import specific modules from a library. For example, you can import the `sqrt` function from the `math` library.\n",
    "\n",
    "You can then use the `sqrt` function without prefixing it with the library name.\n",
    "\n",
    "Let's look at an example of importing the `sqrt` function from the `math` library.\n",
    "\n"
   ]
  },
  {
   "cell_type": "code",
   "execution_count": null,
   "metadata": {},
   "outputs": [],
   "source": [
    "from math import sqrt\n",
    "\n",
    "print(sqrt(16))"
   ]
  },
  {
   "cell_type": "markdown",
   "metadata": {},
   "source": [
    "\n",
    "### Example 9: Using Libraries\n",
    "\n",
    "You can also import specific functions and constants from a library. For example, you can import the `sqrt` function and the constant `pi` from the `math` library.\n",
    "\n",
    "You can then use the `sqrt` function and the constant `pi` without prefixing them with the library name.\n",
    "\n",
    "Let's look at an example of importing the `sqrt` function and the constant `pi` from the `math` library.\n"
   ]
  },
  {
   "cell_type": "code",
   "execution_count": 5,
   "metadata": {},
   "outputs": [
    {
     "name": "stdout",
     "output_type": "stream",
     "text": [
      "4.0\n",
      "3.141592653589793\n"
     ]
    }
   ],
   "source": [
    "from math import sqrt, pi\n",
    "\n",
    "print(sqrt(16))\n",
    "print(pi)"
   ]
  },
  {
   "cell_type": "markdown",
   "metadata": {},
   "source": [
    "\n",
    "## Important Python Libraries\n",
    "\n",
    "There are many libraries available in Python that can help you with your projects. Some of the most important libraries are:\n",
    "\n",
    "- NumPy: NumPy is a library for the Python programming language, adding support for large, multi-dimensional arrays and matrices, along with a large collection of high-level mathematical functions to operate on these arrays.\n",
    "\n",
    "- Pandas: Pandas is a fast, powerful, flexible and easy to use open-source data analysis and data manipulation library built on top of the Python programming language.\n",
    "\n",
    "- Matplotlib: Matplotlib is a plotting library for the Python programming language and its numerical mathematics extension NumPy.\n",
    "\n",
    "- seaborn: Seaborn is a Python data visualization library based on matplotlib. It provides a high-level interface for drawing attractive and informative statistical graphics.\n",
    "\n",
    "- statsmodels: Statsmodels is a Python module that provides classes and functions for the estimation of many different statistical models, as well as for conducting statistical tests, and statistical data exploration.\n",
    "\n",
    "- Scikit-learn: Scikit-learn is a free software machine learning library for the Python programming language. It features various classification, regression and clustering algorithms including support vector machines, random forests, gradient boosting, k-means and DBSCAN, and is designed to interoperate with the Python numerical and scientific libraries NumPy and SciPy.\n",
    "\n",
    "- TensorFlow: TensorFlow is a free and open-source software library for dataflow and differentiable programming across a range of tasks. It is a symbolic math library and is also used for machine learning applications such as neural networks.\n",
    "\n",
    "### Example 10: Using NumPy\n",
    "\n",
    "NumPy is a library for the Python programming language, adding support for large, multi-dimensional arrays and matrices, along with a large collection of high-level mathematical functions to operate on these arrays.\n",
    "\n",
    "You can use the `import` statement to import the `numpy` library and give it the nickname `np`.\n",
    "\n",
    "You can then use the functions and constants in the `numpy` library by prefixing them with the nickname `np`.\n",
    "\n",
    "Let's look at an example of using the `numpy` library to create a 1D array.\n",
    "\n"
   ]
  },
  {
   "cell_type": "code",
   "execution_count": 4,
   "metadata": {},
   "outputs": [
    {
     "name": "stdout",
     "output_type": "stream",
     "text": [
      "[1 2 3 4 5]\n"
     ]
    }
   ],
   "source": [
    "import numpy as np\n",
    "\n",
    "arr = np.array([1, 2, 3, 4, 5])\n",
    "\n",
    "print(arr)"
   ]
  },
  {
   "cell_type": "markdown",
   "metadata": {},
   "source": [
    "\n",
    "### Example 11: Using Pandas\n",
    "\n",
    "Pandas is a fast, powerful, flexible and easy to use open-source data analysis and data manipulation library built on top of the Python programming language.\n",
    "\n",
    "You can use the `import` statement to import the `pandas` library and give it the nickname `pd`.\n",
    "\n",
    "You can then use the functions and constants in the `pandas` library by prefixing them with the nickname `pd`.\n",
    "\n",
    "Let's look at an example of using the `pandas` library to create a DataFrame.\n"
   ]
  },
  {
   "cell_type": "code",
   "execution_count": 2,
   "metadata": {},
   "outputs": [
    {
     "name": "stdout",
     "output_type": "stream",
     "text": [
      "     Name  Age\n",
      "0     Tom   20\n",
      "1   Jerry   21\n",
      "2  Mickey   22\n",
      "3  Donald   23\n"
     ]
    }
   ],
   "source": [
    "import pandas as pd\n",
    "\n",
    "data = {'Name': ['Tom', 'Jerry', 'Mickey', 'Donald'],\n",
    "        'Age': [20, 21, 22, 23]}\n",
    "\n",
    "df = pd.DataFrame(data)\n",
    "\n",
    "print(df)"
   ]
  },
  {
   "cell_type": "markdown",
   "metadata": {},
   "source": [
    "### Example 12: Using Statsmodels to Simulate Data\n",
    "\n",
    "Statsmodels is a Python module that provides classes and functions for the estimation of many different statistical models, as well as for conducting statistical tests, and statistical data exploration.\n",
    "\n",
    "You can use the `import` statement to import the `statsmodels` library and give it the nickname `sm`.\n",
    "\n",
    "We will use the `statsmodels` library to simulate some normally distributed data.\n",
    "\n",
    "```python\n",
    "\n",
    "```\n"
   ]
  },
  {
   "cell_type": "code",
   "execution_count": 12,
   "metadata": {},
   "outputs": [
    {
     "name": "stdout",
     "output_type": "stream",
     "text": [
      "[ 1.76405235  0.40015721  0.97873798  2.2408932   1.86755799 -0.97727788\n",
      "  0.95008842 -0.15135721 -0.10321885  0.4105985 ]\n"
     ]
    }
   ],
   "source": [
    "\n",
    "import statsmodels.api as sm\n",
    "import numpy as np\n",
    "\n",
    "# Set the seed for reproducibility\n",
    "np.random.seed(0)\n",
    "\n",
    "# Simulate 1000 observations from a normal distribution with mean 0 and standard deviation 1\n",
    "data = np.random.normal(0, 1, 1000)\n",
    "\n",
    "print(data[:10]) # Print the first 10 observations"
   ]
  },
  {
   "cell_type": "markdown",
   "metadata": {},
   "source": [
    "### Example 12.5 Using Seaborn to visualize our data\n",
    "\n",
    "Seaborn is a Python data visualization library based on matplotlib. It provides a high-level interface for drawing attractive and informative statistical graphics.\n"
   ]
  },
  {
   "cell_type": "code",
   "execution_count": 14,
   "metadata": {},
   "outputs": [
    {
     "data": {
      "image/png": "[encoded data removed]",
      "text/plain": [
       "<Figure size 640x480 with 1 Axes>"
      ]
     },
     "metadata": {},
     "output_type": "display_data"
    }
   ],
   "source": [
    "import seaborn as sns\n",
    "import matplotlib.pyplot as plt\n",
    "import statsmodels.api as sm\n",
    "import numpy as np\n",
    "\n",
    "# Set the seed for reproducibility\n",
    "np.random.seed(0)\n",
    "\n",
    "# Simulate 1000 observations from a normal distribution with mean 0 and standard deviation 1\n",
    "data = np.random.normal(0, 1, 1000)\n",
    "\n",
    "# Create a histogram of the data\n",
    "sns.histplot(data, kde=True)\n",
    "\n",
    "# Show the plot\n",
    "plt.show()"
   ]
  },
  {
   "cell_type": "markdown",
   "metadata": {},
   "source": [
    "### Example 13: Fitting a Linear Regression Model\n",
    "\n",
    "In this example we will simulate some data and use the `statsmodels` library to fit a linear regression model to the data. We will then use the `seaborn` library to visualize the data and the fitted model.\n",
    "\n",
    "You can use the `import` statement to import the `statsmodels` library and give it the nickname `sm`.\n",
    "\n"
   ]
  },
  {
   "cell_type": "code",
   "execution_count": 15,
   "metadata": {},
   "outputs": [
    {
     "data": {
      "text/plain": [
       "<Axes: >"
      ]
     },
     "execution_count": 15,
     "metadata": {},
     "output_type": "execute_result"
    },
    {
     "data": {
      "image/png": "[encoded data removed]",
      "text/plain": [
       "<Figure size 640x480 with 1 Axes>"
      ]
     },
     "metadata": {},
     "output_type": "display_data"
    }
   ],
   "source": [
    "\n",
    "import statsmodels.api as sm\n",
    "import seaborn as sns\n",
    "\n",
    "# Simulate some data\n",
    "np.random.seed(0) # Set seed for reproducibility\n",
    "\n",
    "X = np.random.normal(size=100)\n",
    "y = 2*X + np.random.normal(size=100)\n",
    "\n",
    "# Fit a linear regression model\n",
    "X = sm.add_constant(X) # Add intercept term\n",
    "\n",
    "model = sm.OLS(y, X).fit()\n",
    "\n",
    "# Visualize the data and the fitted model\n",
    "sns.scatterplot(x=X[:,1], y=y)\n",
    "sns.lineplot(x=X[:,1], y=model.predict(X), color='red')"
   ]
  }
 ],
 "metadata": {
  "kernelspec": {
   "display_name": ".venv",
   "language": "python",
   "name": "python3"
  },
  "language_info": {
   "codemirror_mode": {
    "name": "ipython",
    "version": 3
   },
   "file_extension": ".py",
   "mimetype": "text/x-python",
   "name": "python",
   "nbconvert_exporter": "python",
   "pygments_lexer": "ipython3",
   "version": "3.10.11"
  }
 },
 "nbformat": 4,
 "nbformat_minor": 2
}
